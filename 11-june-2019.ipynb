{
 "cells": [
  {
   "cell_type": "markdown",
   "metadata": {},
   "source": [
    "### **Notebook Basics**"
   ]
  },
  {
   "attachments": {},
   "cell_type": "markdown",
   "metadata": {},
   "source": [
    "# 11-june-2019\n",
    "[Facebook](https://facebook.com/)\n",
    "<b> i am bold</b>\n",
    "** bold **\n",
    "1. i am normal\n",
    "     * sublist 1 \n",
    "     * sublist 2\n",
    "2. 2nd line\n",
    "\n",
    "\n",
    "* un ordered\n",
    "\n",
    "\n",
    "\n",
    "\n",
    "- [ ] option 1\n",
    "- [ ] option 2\n",
    "- [X] option 3\n",
    "\n",
    "\n",
    "![download.png](download.png)\n",
    "\n",
    "\n",
    "<img src=\"download.png\" align=\"left\">\n",
    "\n",
    "\n",
    "\n",
    "This is [an example][id] reference-style link [exmple 2][id2]\n",
    "\n",
    "\n",
    "[id]: http://example.com/  \"Optional Title Here\"\n",
    "[id2]:https://sites.google.com/view/ao0717907-level2-june-2019/worklog/  \"my web page\"\n"
   ]
  },
  {
   "attachments": {},
   "cell_type": "markdown",
   "metadata": {},
   "source": [
    "### **python basics**\n",
    "python version 3.7\n",
    "- scripthing \n",
    "- Object oriented \n",
    "- "
   ]
  },
  {
   "cell_type": "code",
   "execution_count": null,
   "metadata": {},
   "outputs": [],
   "source": [
    "# python  Comments\n",
    "print(\"good Afternoon \")# basic output\n",
    "print(\"Hello Python\",\"word\",sep=\"@\")"
   ]
  },
  {
   "cell_type": "markdown",
   "metadata": {},
   "source": [
    "### Assignment"
   ]
  },
  {
   "cell_type": "code",
   "execution_count": null,
   "metadata": {},
   "outputs": [],
   "source": [
    "n1=123456\n",
    "n2=n3=n4=n1 #Multi variable \n",
    "#Multi variable assignmet with different value\n",
    "a,b,c=1,3,44\n",
    "c"
   ]
  },
  {
   "cell_type": "code",
   "execution_count": null,
   "metadata": {},
   "outputs": [],
   "source": []
  },
  {
   "cell_type": "markdown",
   "metadata": {},
   "source": [
    "### Data Types\n",
    "- int \n",
    "- float\n",
    "- string"
   ]
  },
  {
   "cell_type": "code",
   "execution_count": 9,
   "metadata": {},
   "outputs": [
    {
     "data": {
      "text/plain": [
       "89.6"
      ]
     },
     "execution_count": 9,
     "metadata": {},
     "output_type": "execute_result"
    }
   ],
   "source": [
    "s1=\"python\"\n",
    "type(s1)\n",
    "\n",
    "f1= 89.6\n",
    "f2=int(f1)\n",
    "s2=str(int(f1))\n",
    "type(s2)\n",
    "f1\n"
   ]
  },
  {
   "cell_type": "markdown",
   "metadata": {},
   "source": [
    "### Arithmetic operations\n",
    "- +\n",
    "- -\n",
    "- * \n",
    "- /\n",
    "- %\n",
    "- **\n",
    "- //"
   ]
  },
  {
   "cell_type": "code",
   "execution_count": null,
   "metadata": {},
   "outputs": [],
   "source": [
    "n1 % 11\n",
    "n3=n2 ** 125678\n",
    "\n",
    "type(n3)\n",
    "len(str(n3))\n",
    "n3"
   ]
  },
  {
   "cell_type": "code",
   "execution_count": 2,
   "metadata": {},
   "outputs": [
    {
     "data": {
      "text/plain": [
       "83"
      ]
     },
     "execution_count": 2,
     "metadata": {},
     "output_type": "execute_result"
    }
   ],
   "source": [
    "atoms =10 ** 82\n",
    "len(str(atoms))"
   ]
  },
  {
   "cell_type": "code",
   "execution_count": null,
   "metadata": {},
   "outputs": [],
   "source": []
  },
  {
   "cell_type": "markdown",
   "metadata": {},
   "source": [
    "### Conditionals\n"
   ]
  },
  {
   "cell_type": "code",
   "execution_count": 4,
   "metadata": {},
   "outputs": [
    {
     "data": {
      "text/plain": [
       "True"
      ]
     },
     "execution_count": 4,
     "metadata": {},
     "output_type": "execute_result"
    }
   ],
   "source": [
    "atoms < 10 ** 99"
   ]
  },
  {
   "cell_type": "code",
   "execution_count": 12,
   "metadata": {},
   "outputs": [
    {
     "name": "stdout",
     "output_type": "stream",
     "text": [
      "True\n"
     ]
    }
   ],
   "source": [
    "if atoms < 10**96:\n",
    "    print(\"True\")"
   ]
  },
  {
   "cell_type": "code",
   "execution_count": 13,
   "metadata": {},
   "outputs": [
    {
     "name": "stdout",
     "output_type": "stream",
     "text": [
      "false\n"
     ]
    }
   ],
   "source": [
    "if atoms < 10**6:\n",
    "    print(\"True\")\n",
    "else:\n",
    "    print(\"false\")"
   ]
  },
  {
   "cell_type": "code",
   "execution_count": 53,
   "metadata": {},
   "outputs": [
    {
     "name": "stdout",
     "output_type": "stream",
     "text": [
      "enter the 1st value-1\n",
      "enter the 1st value-100\n",
      "enter the 1st value-50\n",
      "-1 is the greatest\n"
     ]
    }
   ],
   "source": [
    "#find the gretest of 3 numbers\n",
    "n1=int(input(\"enter the 1st value\"))\n",
    "n2=int(input(\"enter the 1st value\"))\n",
    "n3=int(input(\"enter the 1st value\"))\n",
    "if n1 > n2 and n1 >n3:\n",
    "    print(n1,\"is the greatest\")\n",
    "elif n2 > n3:\n",
    "    print(n2,\"is the greatest\")\n",
    "else:\n",
    "     print(n3,\"is the greatest\")"
   ]
  },
  {
   "cell_type": "code",
   "execution_count": 67,
   "metadata": {},
   "outputs": [
    {
     "name": "stdout",
     "output_type": "stream",
     "text": [
      "1234\n",
      "not a leap year\n"
     ]
    }
   ],
   "source": [
    "#check for leap year\n",
    "year=int(input())\n",
    "if year%400==0 or (year%4==0 and year%100!=0):\n",
    "    print(\"leap year\")\n",
    "else:\n",
    "    print(\"not a leap year\")"
   ]
  },
  {
   "cell_type": "code",
   "execution_count": 68,
   "metadata": {},
   "outputs": [
    {
     "name": "stdout",
     "output_type": "stream",
     "text": [
      "1st value78\n",
      "2nd value1\n",
      "3rd value100\n",
      "exists\n"
     ]
    }
   ],
   "source": [
    "#check if a number exists in given range\n",
    "n1=int(input(\"1st value\"))\n",
    "lb=int(input(\"2nd value\"))\n",
    "ub=int(input(\"3rd value\"))\n",
    "if n1 >=lb and n1 <=ub:\n",
    "    print(\"exists\")\n",
    "else:\n",
    "    print(\"not exists\")"
   ]
  },
  {
   "cell_type": "code",
   "execution_count": 56,
   "metadata": {},
   "outputs": [
    {
     "name": "stdout",
     "output_type": "stream",
     "text": [
      "1284729\n"
     ]
    },
    {
     "data": {
      "text/plain": [
       "7"
      ]
     },
     "execution_count": 56,
     "metadata": {},
     "output_type": "execute_result"
    }
   ],
   "source": [
    "#cal the number of digits in a number\n",
    "n=input()\n",
    "len(n)"
   ]
  },
  {
   "cell_type": "code",
   "execution_count": 69,
   "metadata": {},
   "outputs": [
    {
     "name": "stdout",
     "output_type": "stream",
     "text": [
      "67\n",
      "not a multiple\n"
     ]
    }
   ],
   "source": [
    "#check if a number is a multiple of 10\n",
    "num=int(input())\n",
    "if num%10==0:\n",
    "    print(num,\"is multiple of 10\")\n",
    "else:\n",
    "    print(\"not a multiple\")"
   ]
  },
  {
   "cell_type": "code",
   "execution_count": 60,
   "metadata": {},
   "outputs": [
    {
     "name": "stdout",
     "output_type": "stream",
     "text": [
      "50\n",
      "50 is factor of 1000\n"
     ]
    }
   ],
   "source": [
    "#check if a number is a factor of 1000\n",
    "num=int(input())\n",
    "if 1000%num==0:\n",
    "    print(num,\"is factor of 1000\")\n",
    "else:\n",
    "    print(num,\"is not a factor of 1000\")"
   ]
  },
  {
   "cell_type": "code",
   "execution_count": 73,
   "metadata": {},
   "outputs": [
    {
     "name": "stdout",
     "output_type": "stream",
     "text": [
      "12345 is a not equal to 125\n"
     ]
    }
   ],
   "source": [
    "#check if given string is equal to a numberb\n",
    "s1=\"125\"\n",
    "n1=12345\n",
    "if str(n1)==s1:\n",
    "    print(n1,\"is a equal to\",s1)\n",
    "else:\n",
    "    print(n1,\"is a not equal to\",s1)"
   ]
  },
  {
   "cell_type": "code",
   "execution_count": 72,
   "metadata": {},
   "outputs": [
    {
     "data": {
      "text/plain": [
       "5.0"
      ]
     },
     "execution_count": 72,
     "metadata": {},
     "output_type": "execute_result"
    }
   ],
   "source": [
    "#cal the sqrt of a number without function\n",
    "n=25\n",
    "n**0.5"
   ]
  },
  {
   "cell_type": "code",
   "execution_count": 74,
   "metadata": {},
   "outputs": [
    {
     "name": "stdout",
     "output_type": "stream",
     "text": [
      "31536000000000000\n"
     ]
    }
   ],
   "source": [
    "#cal the num of nano seconds in a given year inclue leap year logic\n",
    "#given year (consider leap year logic)\n",
    "year=1234\n",
    "if year%400==0 or (year%100!=0 and year%4==0):\n",
    "    print(366*24*3600000000000)\n",
    "else:\n",
    "    print(365*24*60*60*1000000000)"
   ]
  }
 ],
 "metadata": {
  "kernelspec": {
   "display_name": "Python 3",
   "language": "python",
   "name": "python3"
  },
  "language_info": {
   "codemirror_mode": {
    "name": "ipython",
    "version": 3
   },
   "file_extension": ".py",
   "mimetype": "text/x-python",
   "name": "python",
   "nbconvert_exporter": "python",
   "pygments_lexer": "ipython3",
   "version": "3.7.3"
  }
 },
 "nbformat": 4,
 "nbformat_minor": 2
}
