{
 "cells": [
  {
   "cell_type": "markdown",
   "metadata": {},
   "source": [
    " **Contact Applications**\n"
   ]
  },
  {
   "cell_type": "code",
   "execution_count": 1,
   "metadata": {},
   "outputs": [],
   "source": [
    "# Adding contacts to a file\n",
    "import re\n",
    "from Packages import validators\n",
    "def addContact(name,phnum,email):\n",
    "    with open('DataFiles\\contacts.txt','r+') as f:\n",
    "        filedata = f.read()\n",
    "        if not re.search(name,filedata):\n",
    "            if validators.phoneNumberValidater(phnum) and validators.emailValidater(email):\n",
    "                line = '\\n'+name+\",\"+phnum+\",\"+email\n",
    "                f.write(line)\n",
    "                print('added contact')\n",
    "            else:\n",
    "                print(\"invalid\")\n",
    "        else:\n",
    "            name+\" already exists\"\n",
    "    return\n",
    "addContact(\"name45\",\"9982647375\",\"email.1@gmail.com\")  "
   ]
  },
  {
   "cell_type": "code",
   "execution_count": 13,
   "metadata": {},
   "outputs": [
    {
     "data": {
      "text/plain": [
       "'contact Searched'"
      ]
     },
     "execution_count": 13,
     "metadata": {},
     "output_type": "execute_result"
    }
   ],
   "source": [
    "# Search Contacts in a file\n",
    "def searchForContact(filepath,name):\n",
    "    with open(filepath,'r') as f:\n",
    "        filelines = f.readlines()\n",
    "        for line in filelines:\n",
    "            if name in line:\n",
    "                return \"contact Searched\"\n",
    "        return print(\"contact not Searched\")\n",
    "searchForContact('DataFiles\\contacts.txt','name1')"
   ]
  },
  {
   "cell_type": "code",
   "execution_count": 29,
   "metadata": {},
   "outputs": [
    {
     "name": "stdout",
     "output_type": "stream",
     "text": [
      "1\n",
      "abc\n",
      "cde\n",
      "4\n"
     ]
    }
   ],
   "source": [
    "# fun to check anagrams\n",
    "'''def checkAnagrams(s1,s2):\n",
    "    if len(s1) != len(s2):\n",
    "        return False\n",
    "    if sorted(s1) == sorted(s2):\n",
    "        return True        \n",
    "    return False\n",
    "    \n",
    "def anagrams(s1,s2):\n",
    "    s1 = list(s1)\n",
    "    s2 = list(s2)\n",
    "    if not checkAnagrams(s1,s2):\n",
    "        c = 0\n",
    "        for char in s1:\n",
    "            if char in s2:\n",
    "                index = s2.index(char)\n",
    "                #s2.pop(index)\n",
    "                c +=1\n",
    "    else:\n",
    "        c = 0\n",
    "        for char2 in s2:\n",
    "            if char2 in s1:\n",
    "                index = s1.index(char)\n",
    "                #s1.pop(index)\n",
    "                c += 1\n",
    "    return (len(s1)-c) + (len(s2)-c)\n",
    "s1 = 'abc'#input()\n",
    "s2 = 'dec'#input()\n",
    "print(anagrams(s1,s2))'''\n",
    "#anagrams\n",
    "\n",
    "r=int(input())\n",
    "for i in range(r):\n",
    "    a=list(input())\n",
    "    b=list(input())\n",
    "    k=0\n",
    "    if len(a)<=len(b) :\n",
    "        for i in range(len(a)):\n",
    "            if a[i] in b:\n",
    "                k=k+1\n",
    "                gh=b.index(a[i])\n",
    "                b[gh]='0'\n",
    "    else:\n",
    "        for j in range(len(b)):\n",
    "            if b[j] in a:\n",
    "                k=k+1\n",
    "                gh=a.index(b[j])\n",
    "                a[gh]='0'\n",
    "print((len(a)-k)+(len(b)-k))"
   ]
  },
  {
   "cell_type": "code",
   "execution_count": 2,
   "metadata": {},
   "outputs": [
    {
     "ename": "IndentationError",
     "evalue": "unindent does not match any outer indentation level (<tokenize>, line 35)",
     "output_type": "error",
     "traceback": [
      "\u001b[1;36m  File \u001b[1;32m\"<tokenize>\"\u001b[1;36m, line \u001b[1;32m35\u001b[0m\n\u001b[1;33m    for i in s1:\u001b[0m\n\u001b[1;37m    ^\u001b[0m\n\u001b[1;31mIndentationError\u001b[0m\u001b[1;31m:\u001b[0m unindent does not match any outer indentation level\n"
     ]
    }
   ],
   "source": [
    "def modify(key1):\n",
    "    contacts[key1]=\"new1\"\n",
    "    print(contacts)\n",
    "    return\n",
    "modify(\"name4\")\n",
    "https://sites.google.com/view/ao0717907-level2-june-2019/worklog/21-june-2019\n",
    "#function to check if two strings are equal r not\n",
    "#abc cba ->>true\n",
    "# abc abc\n",
    "#aabbcc ccbbaaa-->false\n",
    "def checkanagram(s1,s2):\n",
    "    if len(s1)!=len(s2):\n",
    "        return False\n",
    "    if sorted(s1)==sorted(s2):\n",
    "        return True\n",
    "    return False\n",
    "checkanagram('abc','bcc')\n",
    "    \n",
    "def chardeletionsanagrams(s1,s2):\n",
    "    uncommon=[]\n",
    "    for i in s1:\n",
    "        if i not in s2:\n",
    "            uncommon.append(i)\n",
    "    for i in s2:\n",
    "        if i not in s1:\n",
    "            uncommon.append(i)\n",
    "    count=len(uncommon)\n",
    "   #freq1-->frequency of common \n",
    "    freqs1={}\n",
    "    freqs2={}\n",
    "   #unique char in s1 and s2\n",
    "    uniqs1=[]\n",
    "    uniqs2=[]\n",
    "   #frequency of unique charcters in s1\n",
    "   for i in s1:\n",
    "        if i not in uncommon and i not in uniqs1:\n",
    "            freqs1[i]=s1.count(i)\n",
    "            uniqs1.append(i)\n",
    "   #frequency of unique charcters in s2        \n",
    "   for i in s2:\n",
    "        if i not in uncommon and i not in uniqs2:\n",
    "            freqs2[i]=s2.count(i)\n",
    "            uniqs2.append(i)\n",
    "   # difference in frequencies for common characters         \n",
    "   for key in freqs1.keys():\n",
    "        count+=abs(freqs1[key]-freqs2[key])\n",
    "           \n",
    "    return count      \n",
    "           \n",
    "chardeletionsanagrams('cde','abc') "
   ]
  },
  {
   "cell_type": "code",
   "execution_count": 26,
   "metadata": {},
   "outputs": [
    {
     "data": {
      "text/plain": [
       "['s', 'j', 'c']"
      ]
     },
     "execution_count": 26,
     "metadata": {},
     "output_type": "execute_result"
    }
   ],
   "source": [
    "l=list(\"sdjc\")\n",
    "l.pop(1)\n",
    "l"
   ]
  },
  {
   "cell_type": "code",
   "execution_count": null,
   "metadata": {},
   "outputs": [],
   "source": []
  }
 ],
 "metadata": {
  "kernelspec": {
   "display_name": "Python 3",
   "language": "python",
   "name": "python3"
  },
  "language_info": {
   "codemirror_mode": {
    "name": "ipython",
    "version": 3
   },
   "file_extension": ".py",
   "mimetype": "text/x-python",
   "name": "python",
   "nbconvert_exporter": "python",
   "pygments_lexer": "ipython3",
   "version": "3.7.3"
  }
 },
 "nbformat": 4,
 "nbformat_minor": 2
}
