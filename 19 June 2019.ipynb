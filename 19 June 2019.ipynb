{
 "cells": [
  {
   "cell_type": "code",
   "execution_count": null,
   "metadata": {},
   "outputs": [],
   "source": [
    "def minmumcost(a,b,g,p):\n",
    "    sum_a = sum(a)\n",
    "    sum_b = sum(b)\n",
    "    maxcost = max(g,p)\n",
    "    mincost = min(g,p)\n",
    "    maxcount = max(sum_a,sum_b)\n",
    "    mincount = min(sum_a,sum_b)\n",
    "    result = (maxcount*mincost)+(mincount*maxcost)\n",
    "    print(result)\n",
    "\n",
    "for t in range(int(input())):\n",
    "    a = []\n",
    "    b = []\n",
    "    g,p = list(map(int,input().split()))\n",
    "    n = int(input())\n",
    "    for participant in range(n):\n",
    "        i,j = list(map(int,input().split()))\n",
    "        a.append(i)\n",
    "        b.append(j)\n",
    "    minmumcost(a,b,g,p)  "
   ]
  },
  {
   "cell_type": "code",
   "execution_count": null,
   "metadata": {},
   "outputs": [],
   "source": [
    "n = int(input()) #6\n",
    "i = 1\n",
    "while n> i*3:\n",
    "    n = n-(i*3)\n",
    "    i+=1\n",
    "if n > i:\n",
    "    print('Motu')\n",
    "else: \n",
    "    print('Patlu')"
   ]
  },
  {
   "cell_type": "code",
   "execution_count": null,
   "metadata": {},
   "outputs": [],
   "source": [
    "# Life, the Universe, and Everything\n",
    "while True:\n",
    "    n = int(input())\n",
    "    if n==42:\n",
    "        break\n",
    "    else:\n",
    "        print(n) \n"
   ]
  },
  {
   "cell_type": "code",
   "execution_count": null,
   "metadata": {},
   "outputs": [],
   "source": [
    "#Book of Potion making\n",
    "def isIllegal_ISBN(s):\n",
    "    if len(s) != 10:\n",
    "        return \"Illegal ISBN\"\n",
    "    i = 1\n",
    "    summ = 0\n",
    "    for char in s:\n",
    "        summ +=int(char)*i\n",
    "        i +=1\n",
    "    if summ % 11 ==0:\n",
    "        return \"Legal ISBN\"\n",
    "    return \"Illegal ISBN\"\n",
    "s = input()\n",
    "print(isIllegal_ISBN(s))"
   ]
  }
 ],
 "metadata": {
  "kernelspec": {
   "display_name": "Python 3",
   "language": "python",
   "name": "python3"
  },
  "language_info": {
   "codemirror_mode": {
    "name": "ipython",
    "version": 3
   },
   "file_extension": ".py",
   "mimetype": "text/x-python",
   "name": "python",
   "nbconvert_exporter": "python",
   "pygments_lexer": "ipython3",
   "version": "3.7.3"
  }
 },
 "nbformat": 4,
 "nbformat_minor": 2
}
