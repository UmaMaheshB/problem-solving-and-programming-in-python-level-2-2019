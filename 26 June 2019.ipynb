{
 "cells": [
  {
   "cell_type": "code",
   "execution_count": 5,
   "metadata": {
    "scrolled": true
   },
   "outputs": [
    {
     "name": "stdout",
     "output_type": "stream",
     "text": [
      "1\n",
      "ajshdsajaaa\n",
      "1\n",
      "{'a': 5, 'j': 2, 's': 2, 'h': 1, 'd': 1}\n",
      "a\n"
     ]
    }
   ],
   "source": [
    "# kth Largest Frequency of character\n",
    "def kthlargestFrequency(s,k):\n",
    "    d = {}\n",
    "    for c in s:\n",
    "        d[c] = d.get(c,0)+1\n",
    "    value = d.values() #[2,1,1,1]\n",
    "    unique_values = sorted(set(value),reverse = True)\n",
    "    if len(unique_values) < k:\n",
    "        return -1\n",
    "    else:\n",
    "        high_value = unique_values[k-1]\n",
    "        l= []\n",
    "        for keys,v in d.items():\n",
    "            if v == high_value:\n",
    "                l.append(keys)\n",
    "    return min(l)\n",
    "        \n",
    "for t in range(int(input())):\n",
    "    s = input() # 'abcaabbcd'\n",
    "    k = int(input())\n",
    "    print(kthlargestFrequency(s,k))"
   ]
  },
  {
   "cell_type": "code",
   "execution_count": 7,
   "metadata": {},
   "outputs": [
    {
     "name": "stdout",
     "output_type": "stream",
     "text": [
      "1\n",
      "4\n",
      "1 3 5 9\n",
      "2\n",
      "8\n",
      "Wall time: 8.22 s\n"
     ]
    }
   ],
   "source": [
    "%%time\n",
    "# medium level problem\n",
    "def kthlargestnumber(ar,k):\n",
    "    new_list = []\n",
    "    for i in range(min(ar),max(ar)):\n",
    "        if i not in ar:\n",
    "            ar.append(i)\n",
    "    if len(ar) < k:\n",
    "        return -1\n",
    "    else:\n",
    "        return sorted(ar,reverse = True)[k-1]\n",
    "\n",
    "for t in range(int(input())):\n",
    "    n = int(input())\n",
    "    ar = list(map(int,input().split()))[:n]\n",
    "    k = int(input())\n",
    "    print(kthlargestnumber(ar,k))"
   ]
  },
  {
   "cell_type": "code",
   "execution_count": 13,
   "metadata": {},
   "outputs": [
    {
     "data": {
      "text/plain": [
       "[9, 7, 5, 2, 1]"
      ]
     },
     "execution_count": 13,
     "metadata": {},
     "output_type": "execute_result"
    }
   ],
   "source": [
    "sorted([9,1,7,2,5],reverse = True)"
   ]
  },
  {
   "cell_type": "code",
   "execution_count": 4,
   "metadata": {},
   "outputs": [
    {
     "name": "stdout",
     "output_type": "stream",
     "text": [
      "1\n",
      "5\n",
      "112 2324 1242 3 35646\n",
      "2\n",
      "4\n"
     ]
    }
   ],
   "source": [
    "def kthsmallestnumber(ar,k):\n",
    "    for i in range(min(ar),max(ar)):\n",
    "        if i not in ar:\n",
    "            ar.append(i)\n",
    "    ar = sorted(ar)\n",
    "    if len(ar) < k:\n",
    "        return -1\n",
    "    else:\n",
    "        return ar[k-1]\n",
    "\n",
    "for t in range(int(input())):\n",
    "    n = int(input())\n",
    "    ar = list(map(int,input().split()))[:n]\n",
    "    k = int(input())\n",
    "    print(kthsmallestnumber(ar,k))"
   ]
  },
  {
   "cell_type": "code",
   "execution_count": 12,
   "metadata": {},
   "outputs": [
    {
     "data": {
      "text/plain": [
       "9"
      ]
     },
     "execution_count": 12,
     "metadata": {},
     "output_type": "execute_result"
    }
   ],
   "source": [
    "def kSmallest(li, k):\n",
    "    unique = []\n",
    "    for i in li:\n",
    "        if i not in unique:\n",
    "            unique.append(i)\n",
    "    unique = sorted(unique)\n",
    "    if len(unique) >= k:\n",
    "        return unique[k-1]\n",
    "    return -1\n",
    "kSmallest([3,3,9],2)"
   ]
  },
  {
   "cell_type": "code",
   "execution_count": 38,
   "metadata": {},
   "outputs": [
    {
     "name": "stdout",
     "output_type": "stream",
     "text": [
      "{1: 2, 2: 2, 3: 2, 9: 1, 8: 1, 7: 1, 4: 1}\n",
      "[1, 2, 3]\n"
     ]
    },
    {
     "data": {
      "text/plain": [
       "1"
      ]
     },
     "execution_count": 38,
     "metadata": {},
     "output_type": "execute_result"
    }
   ],
   "source": [
    "# fun to identify the elements with highest frequency in a list\n",
    "#\n",
    "\n",
    "def highestfrequencyElement_1(li):\n",
    "    d = {}\n",
    "    for i in li:\n",
    "        d[i] = d.get(i,0)+1\n",
    "    values = sorted(set(d.values()))\n",
    "    l = []\n",
    "    for k,v in d.items():\n",
    "        if max(values) == v:\n",
    "            l.append((k,v))\n",
    "    l = sorted(l)\n",
    "    t = l[0]\n",
    "    return t[0]\n",
    "    \n",
    "#print(highestfrequencyElement_1([1,2,3,9,8,7,3,4,2,1]))\n",
    "\n",
    "\n",
    "def highestfrequencyElement_3(li):\n",
    "    unique = {}\n",
    "    for n in li: \n",
    "        if n in unique:\n",
    "            unique[n] +=1\n",
    "        else:\n",
    "            unique[n] = 1\n",
    "    print(unique)\n",
    "    freq = unique.values()\n",
    "    maxfreq = max(freq)\n",
    "    maxfreqE = []\n",
    "    for item in unique.items():\n",
    "        if item[1] == maxfreq:\n",
    "            maxfreqE.append(item[0])\n",
    "    \n",
    "    return min(maxfreqE)\n",
    "highestfrequencyElement_3([1,2,3,9,8,7,3,4,2,1])   "
   ]
  },
  {
   "cell_type": "code",
   "execution_count": 37,
   "metadata": {},
   "outputs": [
    {
     "name": "stdout",
     "output_type": "stream",
     "text": [
      "('a', 8)\n",
      "('b', 2)\n",
      "('tr', 90)\n"
     ]
    }
   ],
   "source": [
    "p ={'a':8,'b':2,\"tr\":90}\n",
    "for items in p.items():\n",
    "    print(items)"
   ]
  },
  {
   "cell_type": "code",
   "execution_count": 54,
   "metadata": {},
   "outputs": [
    {
     "name": "stdout",
     "output_type": "stream",
     "text": [
      "{9: 2, 8: 1, 7: 5, 6: 4, 5: 1, 2: 1, 3: 1, 4: 1}\n"
     ]
    },
    {
     "data": {
      "text/plain": [
       "2"
      ]
     },
     "execution_count": 54,
     "metadata": {},
     "output_type": "execute_result"
    }
   ],
   "source": [
    "def secondHighestfrequencyElement_main(li,k):\n",
    "    unique = {}\n",
    "    for n in li: \n",
    "        if n in unique:\n",
    "            unique[n] +=1\n",
    "        else:\n",
    "            unique[n] = 1\n",
    "    print(unique)\n",
    "    freq = sorted(set(unique.values()),reverse=True)\n",
    "    #print(freq)\n",
    "    if len(freq) < k:\n",
    "        return -1\n",
    "    else:\n",
    "        maxfreqE = []\n",
    "        for item in unique.items():\n",
    "            if item[1] == freq[k-1]:\n",
    "                maxfreqE.append(item[0])\n",
    "        return min(maxfreqE)\n",
    "secondHighestfrequencyElement_main([9,8,7,6,5,2,3,4,9,6,7,7,7,6,7,6],4) "
   ]
  },
  {
   "cell_type": "code",
   "execution_count": 65,
   "metadata": {},
   "outputs": [
    {
     "name": "stdout",
     "output_type": "stream",
     "text": [
      "{9: 2, 8: 1, 7: 5, 6: 4, 5: 1, 2: 1, 3: 1, 4: 1}\n",
      "[1, 2, 4, 5]\n",
      "[8, 5, 2, 3, 4]\n"
     ]
    },
    {
     "data": {
      "text/plain": [
       "2"
      ]
     },
     "execution_count": 65,
     "metadata": {},
     "output_type": "execute_result"
    }
   ],
   "source": [
    "def secondLowestfrequencyElement_main(li,k):\n",
    "    unique = {}\n",
    "    for n in li: \n",
    "        if n in unique:\n",
    "            unique[n] +=1\n",
    "        else:\n",
    "            unique[n] = 1\n",
    "    print(unique)\n",
    "    freq = sorted(set(unique.values()))\n",
    "    print(freq)\n",
    "    if len(freq) < k:\n",
    "        return -1\n",
    "    else:\n",
    "        maxfreqE = []\n",
    "        for item in unique.items():\n",
    "            if item[1] == freq[k-1]:\n",
    "                maxfreqE.append(item[0])\n",
    "        print(maxfreqE)\n",
    "    return min(maxfreqE)\n",
    "secondLowestfrequencyElement_main([9,8,7,6,5,2,3,4,9,6,7,7,7,6,7,6],1) "
   ]
  },
  {
   "cell_type": "code",
   "execution_count": null,
   "metadata": {},
   "outputs": [],
   "source": []
  }
 ],
 "metadata": {
  "kernelspec": {
   "display_name": "Python 3",
   "language": "python",
   "name": "python3"
  },
  "language_info": {
   "codemirror_mode": {
    "name": "ipython",
    "version": 3
   },
   "file_extension": ".py",
   "mimetype": "text/x-python",
   "name": "python",
   "nbconvert_exporter": "python",
   "pygments_lexer": "ipython3",
   "version": "3.7.3"
  }
 },
 "nbformat": 4,
 "nbformat_minor": 2
}
