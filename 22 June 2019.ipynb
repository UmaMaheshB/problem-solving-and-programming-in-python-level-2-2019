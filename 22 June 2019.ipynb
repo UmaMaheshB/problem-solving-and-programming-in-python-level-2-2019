{
 "cells": [
  {
   "cell_type": "markdown",
   "metadata": {},
   "source": [
    "### Day Objective \n",
    "- File Handling \n",
    "    -Basic File Data Processing\n",
    "        -Accessing and Modifying File\n",
    "    -characters count\n",
    "    \n",
    "    -Line Count\n",
    "    \n",
    "    -File Size\n",
    "    \n",
    "    -Word Count\n",
    "    \n",
    "    -Unique word Count \n",
    "    "
   ]
  },
  {
   "cell_type": "code",
   "execution_count": 4,
   "metadata": {},
   "outputs": [
    {
     "name": "stdout",
     "output_type": "stream",
     "text": [
      "new data\n",
      "line\n",
      "line2\n",
      "Line 4\n",
      "line3\n"
     ]
    }
   ],
   "source": [
    "# Read a file - file should exist(Read Mode)\n",
    "# Write to a File - Existing(append) or New File (Write Mode)\n",
    "\n",
    "def readFile(filePath):\n",
    "    with open (filePath,'r') as f:\n",
    "        filedata = f.read()\n",
    "    return filedata\n",
    "filepath =\"DataFiles/data.txt\"\n",
    "#print(readFile(filepath))"
   ]
  },
  {
   "cell_type": "code",
   "execution_count": 5,
   "metadata": {},
   "outputs": [
    {
     "data": {
      "text/plain": [
       "32"
      ]
     },
     "execution_count": 5,
     "metadata": {},
     "output_type": "execute_result"
    }
   ],
   "source": [
    "# fun to count characters in a file \n",
    "def countChar(filepath):\n",
    "    file_data = readFile(filepath)\n",
    "    return len(file_data)\n",
    "#countChar(\"DataFiles/data.txt\")"
   ]
  },
  {
   "cell_type": "code",
   "execution_count": 25,
   "metadata": {},
   "outputs": [
    {
     "name": "stdout",
     "output_type": "stream",
     "text": [
      "32\n",
      "\n"
     ]
    }
   ],
   "source": [
    "def LineCount(filepath):\n",
    "    file_data=readFile(filepath)\n",
    "    #l = []\n",
    "    #for line in file_data.split('\\n'):\n",
    "        #l.append(line)\n",
    "    file_data.split('\\n')\n",
    "    return len(file_data)\n",
    "print(LineCount(\"DataFiles/data.txt\"))\n",
    "\n",
    "\"\"\"def LineCount(filepath):\n",
    "    with open(filepath,'r') as f:\n",
    "        filedata = f.read()\n",
    "        c=0\n",
    "        for i in filedata.split('\\n'):\n",
    "            c+=1\n",
    "    return c\n",
    "print(LineCount(\"DataFiles/data.txt\"))\"\"\"\n",
    "print()"
   ]
  },
  {
   "cell_type": "code",
   "execution_count": 23,
   "metadata": {},
   "outputs": [
    {
     "data": {
      "text/plain": [
       "'hello'"
      ]
     },
     "execution_count": 23,
     "metadata": {},
     "output_type": "execute_result"
    }
   ],
   "source": [
    "\"hello\""
   ]
  },
  {
   "cell_type": "code",
   "execution_count": 19,
   "metadata": {},
   "outputs": [
    {
     "name": "stdout",
     "output_type": "stream",
     "text": [
      "7\n"
     ]
    }
   ],
   "source": [
    "def countWordsinaFile(filepath):\n",
    "    with open(filepath,'r') as f:\n",
    "        filedata = f.read()\n",
    "        words = 0\n",
    "        for i in filedata.split():\n",
    "            words += 1\n",
    "        return words\n",
    "print(countWordsinaFile(\"DataFiles/data.txt\"))"
   ]
  },
  {
   "cell_type": "code",
   "execution_count": 44,
   "metadata": {},
   "outputs": [
    {
     "name": "stdout",
     "output_type": "stream",
     "text": [
      "6\n"
     ]
    }
   ],
   "source": [
    "def uniqueword_count(filepath):\n",
    "    with open(filepath,'r') as f:\n",
    "        filedata = f.read()\n",
    "        c=0\n",
    "        words=filedata.split()\n",
    "        unique_words=set(words)\n",
    "        return len(list(unique_words))\n",
    "print(uniqueword_count(\"DataFiles/data.txt\"))"
   ]
  },
  {
   "cell_type": "code",
   "execution_count": 36,
   "metadata": {},
   "outputs": [
    {
     "data": {
      "text/plain": [
       "36"
      ]
     },
     "execution_count": 36,
     "metadata": {},
     "output_type": "execute_result"
    }
   ],
   "source": [
    "import os\n",
    "n = os.stat(\"DataFiles/data.txt\")\n",
    "n.st_size"
   ]
  },
  {
   "cell_type": "code",
   "execution_count": 49,
   "metadata": {},
   "outputs": [
    {
     "data": {
      "text/plain": [
       "True"
      ]
     },
     "execution_count": 49,
     "metadata": {},
     "output_type": "execute_result"
    }
   ],
   "source": [
    "def isPrime(n):\n",
    "    for i in range(2,int(n**0.5)+1):\n",
    "        if n == 2:\n",
    "            return True\n",
    "        if n%i == 0:\n",
    "            return False\n",
    "    return True\n",
    "isPrime(3)"
   ]
  },
  {
   "cell_type": "code",
   "execution_count": 53,
   "metadata": {},
   "outputs": [
    {
     "data": {
      "text/plain": [
       "[]"
      ]
     },
     "execution_count": 53,
     "metadata": {},
     "output_type": "execute_result"
    }
   ],
   "source": [
    "list(range(2,2))"
   ]
  },
  {
   "cell_type": "code",
   "execution_count": 79,
   "metadata": {},
   "outputs": [
    {
     "name": "stdout",
     "output_type": "stream",
     "text": [
      "1\n",
      "6\n",
      "CGSCCO\n",
      "[(67, 0)]\n",
      "[(67, 0), (71, 4)]\n",
      "[(67, 0), (71, 4), (83, 16)]\n",
      "[(67, 0), (71, 4), (83, 16), (67, 0)]\n",
      "[(67, 0), (71, 4), (83, 16), (67, 0), (67, 0)]\n",
      "[(67, 0), (71, 4), (83, 16), (67, 0), (67, 0), (79, 12)]\n"
     ]
    }
   ],
   "source": [
    "def isprime(n):\n",
    "    if n == 2:\n",
    "        return True\n",
    "    for i in range(2,int(n**0.5)+1):\n",
    "        if n % i ==0:\n",
    "            return False\n",
    "    return True\n",
    "        \n",
    "small = \"ABCDEFGHIJKLMNOPQRSTUVWXYZabcdefghijklmnopqrstuvwxyz\"\n",
    "primevalues=[]\n",
    "for c in small:\n",
    "    if isprime(ord(c)):\n",
    "        primevalues.append(ord(c))\n",
    "def magicword(s,n):\n",
    "    l = []\n",
    "    i = 0\n",
    "    for char in s[:n]:\n",
    "        l.append((ord(char),abs(primevalues[i]-ord(char))))\n",
    "        print(l)\n",
    "t = int(input())\n",
    "for i in range(t):\n",
    "    n = int(input())\n",
    "    s = input()#ADFVR\n",
    "    magicword(s,n)"
   ]
  },
  {
   "cell_type": "code",
   "execution_count": 58,
   "metadata": {},
   "outputs": [],
   "source": [
    "with open(\"sample.txt\",'r') as fh:\n",
    "    lines = fh.readlines()\n",
    "    linenum = 1\n",
    "    \n",
    "fw = open(\"sample.txt\",\"w\")\n",
    "'''for line in lines:\n",
    "    print(linenum,line,end=\"\",sep=\".\",file=fw)\n",
    "    linenum+=1'''\n",
    "print(\"ayyappa\",file=fw)\n",
    "fw.close()"
   ]
  },
  {
   "cell_type": "code",
   "execution_count": null,
   "metadata": {},
   "outputs": [],
   "source": []
  },
  {
   "cell_type": "code",
   "execution_count": 62,
   "metadata": {},
   "outputs": [
    {
     "name": "stdout",
     "output_type": "stream",
     "text": [
      "9\n",
      "0\n"
     ]
    }
   ],
   "source": [
    "fh=open(\"sample.txt\",'a')\n",
    "#print(fh.read())\n",
    "print(fh.tell())\n",
    "fh.seek(0)\n",
    "print(fh.tell())\n",
    "fh.write('h')\n",
    "fh.close()\n"
   ]
  },
  {
   "cell_type": "code",
   "execution_count": 82,
   "metadata": {},
   "outputs": [
    {
     "data": {
      "text/plain": [
       "[67,\n",
       " 71,\n",
       " 73,\n",
       " 79,\n",
       " 83,\n",
       " 89,\n",
       " 97,\n",
       " 101,\n",
       " 103,\n",
       " 107,\n",
       " 109,\n",
       " 113,\n",
       " (65, 2),\n",
       " (65, 2),\n",
       " (65, 2),\n",
       " (65, 2),\n",
       " 'k',\n",
       " 'j',\n",
       " 'k',\n",
       " 'j']"
      ]
     },
     "execution_count": 82,
     "metadata": {},
     "output_type": "execute_result"
    }
   ],
   "source": [
    "l.extend('kj')\n",
    "l"
   ]
  },
  {
   "cell_type": "code",
   "execution_count": 84,
   "metadata": {},
   "outputs": [
    {
     "name": "stdout",
     "output_type": "stream",
     "text": [
      "2 4\n",
      "2 4\n"
     ]
    }
   ],
   "source": [
    "n,q = input().split()\n",
    "print(n,q)"
   ]
  },
  {
   "cell_type": "code",
   "execution_count": 90,
   "metadata": {},
   "outputs": [
    {
     "data": {
      "text/plain": [
       "32"
      ]
     },
     "execution_count": 90,
     "metadata": {},
     "output_type": "execute_result"
    }
   ],
   "source": []
  },
  {
   "cell_type": "code",
   "execution_count": 111,
   "metadata": {},
   "outputs": [
    {
     "data": {
      "text/plain": [
       "3"
      ]
     },
     "execution_count": 111,
     "metadata": {},
     "output_type": "execute_result"
    }
   ],
   "source": [
    "def decimal(binval):\n",
    "    dec = 1\n",
    "    power = 0 \n",
    "    for i in binval[::-1]:\n",
    "        dec += i*2**power\n",
    "        power += 1\n",
    "    return dec-1\n",
    "decimal([0,0,1,1])"
   ]
  },
  {
   "cell_type": "code",
   "execution_count": 102,
   "metadata": {},
   "outputs": [
    {
     "data": {
      "text/plain": [
       "[5, 4, 3, 2, 1]"
      ]
     },
     "execution_count": 102,
     "metadata": {},
     "output_type": "execute_result"
    }
   ],
   "source": [
    "k=[1,2,3,4,5]\n",
    "k[::-1]"
   ]
  },
  {
   "cell_type": "code",
   "execution_count": null,
   "metadata": {},
   "outputs": [],
   "source": [
    "def decimal(binval):\n",
    "    dec = 1\n",
    "    power = 0 \n",
    "    for i in binval[::-1]:\n",
    "        dec += i*2**power\n",
    "        power += 1\n",
    "    return dec-1\n",
    "#decimal([0,0,1,1])\n",
    "# Write your code here\n",
    "n,q = input().split()\n",
    "ar = list(map(int,input()))[:int(n)]\n",
    "for i in range(int(q)):\n",
    "    qset = list(map(int,input()))\n",
    "    binvala=[]\n",
    "    if qset[0] == 0:\n",
    "        for bit in ar[qset[1]:qset[2]]:\n",
    "            binval.append(bit)\n",
    "        if decimal(binval) % 2 == 0:\n",
    "            print(\"EVEN\")\n",
    "        else:\n",
    "            print(\"ODD\")\n",
    "    else:\n",
    "        if ar[f[1]-1] == 1:\n",
    "            ar[f[1]-1]=0\n",
    "        else:\n",
    "            ar[f[1]-1]=1"
   ]
  }
 ],
 "metadata": {
  "kernelspec": {
   "display_name": "Python 3",
   "language": "python",
   "name": "python3"
  },
  "language_info": {
   "codemirror_mode": {
    "name": "ipython",
    "version": 3
   },
   "file_extension": ".py",
   "mimetype": "text/x-python",
   "name": "python",
   "nbconvert_exporter": "python",
   "pygments_lexer": "ipython3",
   "version": "3.7.3"
  }
 },
 "nbformat": 4,
 "nbformat_minor": 2
}
