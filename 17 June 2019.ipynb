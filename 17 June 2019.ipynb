{
 "cells": [
  {
   "cell_type": "markdown",
   "metadata": {},
   "source": [
    "### Special number Problem\n",
    "##### problem 4\n"
   ]
  },
  {
   "cell_type": "code",
   "execution_count": 1,
   "metadata": {},
   "outputs": [],
   "source": [
    "def prime(i):\n",
    "    c=0\n",
    "    for value in range(2,i):\n",
    "        if i%value==0:\n",
    "            c+=1\n",
    "    if c<1:\n",
    "        return True\n",
    "    return False"
   ]
  },
  {
   "cell_type": "code",
   "execution_count": 2,
   "metadata": {},
   "outputs": [],
   "source": [
    "def SpecialNum(n,p):\n",
    "    prime_count=0\n",
    "    for v in range(2,n):\n",
    "        if n % v == 0 and prime(v):\n",
    "            prime_count += 1\n",
    "    if prime_count == p:\n",
    "        return \"YES\"\n",
    "    return \"NO\""
   ]
  },
  {
   "cell_type": "code",
   "execution_count": 4,
   "metadata": {},
   "outputs": [
    {
     "name": "stdout",
     "output_type": "stream",
     "text": [
      "2\n",
      "2\n",
      "4\n",
      "NO\n",
      "4\n",
      "NO\n"
     ]
    }
   ],
   "source": [
    "p = int(input())\n",
    "t = int(input())\n",
    "for i in range(t):\n",
    "    n = int(input())\n",
    "    print(SpecialNum(n,p))"
   ]
  },
  {
   "cell_type": "code",
   "execution_count": null,
   "metadata": {},
   "outputs": [],
   "source": [
    "True + True"
   ]
  },
  {
   "cell_type": "code",
   "execution_count": null,
   "metadata": {},
   "outputs": [],
   "source": [
    "l=[0,0,1,2,0,2,1,0]\n",
    "print(l.index(max(l)))"
   ]
  },
  {
   "cell_type": "code",
   "execution_count": null,
   "metadata": {},
   "outputs": [],
   "source": [
    "#count digits and chars\n",
    "def countDigits"
   ]
  },
  {
   "cell_type": "markdown",
   "metadata": {},
   "source": [
    "### problem 3\n"
   ]
  },
  {
   "cell_type": "code",
   "execution_count": 5,
   "metadata": {},
   "outputs": [
    {
     "name": "stdout",
     "output_type": "stream",
     "text": [
      "3\n",
      "6\n",
      "4\n",
      "9\n",
      "5\n",
      "7\n",
      "4\n"
     ]
    }
   ],
   "source": [
    "def maxrem(n):\n",
    "    val_list = []\n",
    "    rem_list = []\n",
    "    for val in range(2,n):\n",
    "        rem = n % val\n",
    "        rem_list.append(rem)\n",
    "        val_list.append(val)\n",
    "    index=rem_list.index(max(rem_list))\n",
    "    return val_list[index]\n",
    "            \n",
    "    \n",
    "t = int(input())\n",
    "for i in range(t):\n",
    "    n = int(input())\n",
    "    print(maxrem(n))"
   ]
  },
  {
   "cell_type": "code",
   "execution_count": 8,
   "metadata": {},
   "outputs": [
    {
     "name": "stdout",
     "output_type": "stream",
     "text": [
      "4\n",
      "6\n",
      "YES\n",
      "8\n",
      "NO\n",
      "9\n",
      "NO\n",
      "28\n",
      "YES\n"
     ]
    }
   ],
   "source": [
    "#perfect number\n",
    "def perfectNum(n):\n",
    "    f=0\n",
    "    for i in range(1,n):\n",
    "        if n % i == 0:\n",
    "            f +=i\n",
    "    if f == n:\n",
    "        return \"YES\"\n",
    "    return \"NO\"\n",
    "\n",
    "t = int(input())\n",
    "for i in range(t):\n",
    "    n = int(input())\n",
    "    print(perfectNum(n))"
   ]
  },
  {
   "cell_type": "markdown",
   "metadata": {},
   "source": [
    "### problem 2\n"
   ]
  },
  {
   "cell_type": "code",
   "execution_count": 11,
   "metadata": {},
   "outputs": [
    {
     "name": "stdout",
     "output_type": "stream",
     "text": [
      "jhgy89\n",
      "4\n",
      "2\n"
     ]
    }
   ],
   "source": [
    "# problem 2\n",
    "# count digits and characters\n",
    "def countCharsDigits(s):\n",
    "    char=0\n",
    "    digits=0\n",
    "    for element in s:\n",
    "        if element.isalpha():\n",
    "            char += 1\n",
    "        elif element.isdigit():\n",
    "            digits += 1\n",
    "    print(char,digits,sep=\"\\n\")\n",
    "s= input()\n",
    "countCharsDigits(s)"
   ]
  },
  {
   "cell_type": "markdown",
   "metadata": {},
   "source": [
    "### problem 1"
   ]
  },
  {
   "cell_type": "code",
   "execution_count": null,
   "metadata": {},
   "outputs": [],
   "source": []
  }
 ],
 "metadata": {
  "kernelspec": {
   "display_name": "Python 3",
   "language": "python",
   "name": "python3"
  },
  "language_info": {
   "codemirror_mode": {
    "name": "ipython",
    "version": 3
   },
   "file_extension": ".py",
   "mimetype": "text/x-python",
   "name": "python",
   "nbconvert_exporter": "python",
   "pygments_lexer": "ipython3",
   "version": "3.7.3"
  }
 },
 "nbformat": 4,
 "nbformat_minor": 2
}
