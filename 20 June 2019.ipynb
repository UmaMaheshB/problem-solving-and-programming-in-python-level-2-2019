{
 "cells": [
  {
   "cell_type": "markdown",
   "metadata": {},
   "source": [
    "### Regular Expressions\n",
    "\n",
    "- pattern matching\n",
    "- Symbolic Notation of a pattern \n",
    "    - pattern : Format which repeats\n",
    "    - pattern (RE) -Represents the set of all strings match that pattern \n",
    "    \n",
    " - [0-9]  -> Any digit\n",
    " \n",
    " - [a-z]  -> Any lower case alphabet\n",
    " \n",
    " - [2468] -> All single digit multiples of 2\n",
    " \n",
    " - `^[0-9]{1}$` ->Only single digit number\n",
    " \n",
    " - `^[0-9]{3}$` -> Only 3 digit number\n",
    " \n",
    " - `[0-9]*(0|5)$` -> All multiples of 5\n",
    "     - or `(^[1-9][0-9]*[05])|[5]{1}$`\n",
    "     \n",
    " - `[0-9]*0$`  -> All 10 Multiples\n",
    " \n",
    " - `^[0-9]{10}$` -> All 10 digits\n",
    " \n",
    " - `[w][o][r][d]` or `(word)` -> Searching for a word\n",
    " \n",
    " - `^[6-9][0-9]{9}$|^[0][6-9][0-9]{9}|[+][9][1][6-9][0-9]{9}$` ->Validating Phone number \n",
    " \n",
    " -   -> Email Validation (username@domain.extension)\n",
    "     \n",
    " \n",
    "      - user name `^[0-9a-z][0-9a-z_.]{4,13}[0-9a-z]$`\n",
    "             - lenght of username :[6,15]\n",
    "             - no special characters other than _.\n",
    "             - should not begin and end with _.\n",
    "             - characters set : all digits and alphabet\n",
    "      - domain `^[0-9a-z]{2,17}`\n",
    "             - Lenght of domain :[3,18]\n",
    "             - No special characers\n",
    "             - characters set : all digits and alphabet\n",
    "      - Extension \n",
    "              - length of extension :[2,4]\n",
    "              - No special characers\n",
    "              - characters set : alphabet\n",
    " - `^[0-9a-z][0-9a-z_.]{4,13}[0-9a-z][@][0-9a-z]{3,18}[.][a-z]{2,4}$`\n",
    " - `^[a]...[z]$` -> any string of length 5 \n",
    " - `^[a].*[z]$` -> any string of any lenght that "
   ]
  },
  {
   "cell_type": "code",
   "execution_count": 32,
   "metadata": {},
   "outputs": [],
   "source": [
    "# funtion to validate a phone number\n",
    "import re\n",
    "\n",
    "def phoneNumberValidator(number):\n",
    "    pattern = \"^[6-9][0-9]{9}$|^[0][6-9][0-9]{9}$|^[+][9][1][6-9][0-9]{9}$\""
   ]
  },
  {
   "cell_type": "code",
   "execution_count": 34,
   "metadata": {},
   "outputs": [],
   "source": [
    "def emailValidater(email_id):\n",
    "    pattern = \"^[0-9a-z][0-9a-z_.]{4,13}[0-9a-z][@][0-9a-z]{3,18}[.][a-z]{2,4}$\""
   ]
  },
  {
   "cell_type": "code",
   "execution_count": 36,
   "metadata": {},
   "outputs": [],
   "source": [
    "contacts={\"name1\" : [9876543210, \"name1@domain.ext\"]}\n",
    "def addcontact(name, phone, email):\n",
    "    if name in contacts:\n",
    "        print(name, \"already exits\")\n",
    "    else:\n",
    "        if not phoneNumberValidater(phone):\n",
    "            print(\"Invalid Number\")\n",
    "            return"
   ]
  },
  {
   "cell_type": "code",
   "execution_count": null,
   "metadata": {},
   "outputs": [],
   "source": []
  },
  {
   "cell_type": "markdown",
   "metadata": {},
   "source": [
    "# File Handling in Python\n",
    "\n",
    "File - Document containing information resinding on the permanent storage\n",
    "\n",
    "Types - Text, PDF, CSV etc\n",
    "\n",
    "File I/O - Channelling I/O data to files\n",
    "\n",
    "Default I/O channels are - Keyboard / Screen\n",
    "\n",
    "change I/O channel to files for Reading and writing \n",
    "\n",
    "Read a file - Input from file\n",
    "\n",
    "write to a file - Output to a file \n"
   ]
  },
  {
   "cell_type": "code",
   "execution_count": 45,
   "metadata": {},
   "outputs": [
    {
     "name": "stdout",
     "output_type": "stream",
     "text": [
      "line 1 \n",
      "line 2\n",
      "line 3\n",
      "line 1 \n",
      "line 2\n",
      "line 3line 1 \n",
      "line 2\n",
      "line 3\n"
     ]
    }
   ],
   "source": [
    "# function to read a file\n",
    "def readFile(filename):\n",
    "    f = open(filename,'r')\n",
    "    filedata = f.read()\n",
    "    f.close()\n",
    "    return filedata\n",
    "filename = 'DataFiles/data.txt'\n",
    "filedata = readFile(filename)\n",
    "for line in filedata.split('\\n'):\n",
    "    print(line)\n",
    "    \n",
    "def printFiledataLine(filename):\n",
    "    with open(filename,'r') as f:\n",
    "        for line in f:\n",
    "            print(line,end='')\n",
    "    return\n",
    "printFiledataLine(filename)\n",
    "print(readFile(filename))"
   ]
  },
  {
   "cell_type": "code",
   "execution_count": 46,
   "metadata": {},
   "outputs": [],
   "source": [
    "# fun to write data in a file\n",
    "def writeIntoFile(filename,filedata):\n",
    "    with open (filename, \"w\") as f:\n",
    "        f.write(filedata)\n",
    "    return \n",
    "\n",
    "filename = 'DataFiles/data.txt'\n",
    "writeIntoFile(filename,'new data')"
   ]
  },
  {
   "cell_type": "code",
   "execution_count": null,
   "metadata": {},
   "outputs": [],
   "source": [
    "# fun to append data\n",
    "def appendDataToFile(filename, filedata):\n",
    "    with open(filename, 'a') as f:\n",
    "        f.write(filedata)\n",
    "    return \n",
    "\n",
    "filename = 'DataFiles/data.txt'\n",
    "appendDataToFile(filename,'new data')"
   ]
  },
  {
   "cell_type": "markdown",
   "metadata": {},
   "source": [
    "# practice Problem"
   ]
  },
  {
   "cell_type": "code",
   "execution_count": null,
   "metadata": {},
   "outputs": [],
   "source": [
    "#   Lift queries\n",
    "a = 0\n",
    "b = 7\n",
    "for T in range(int(input())):\n",
    "    \n",
    "    n = int(input())\n",
    "    if n <= (a + b)//2:\n",
    "        a = n\n",
    "        print(\"A\")\n",
    "    elif n > (a + b)//2:\n",
    "        b = n\n",
    "        print(\"B\")"
   ]
  },
  {
   "cell_type": "code",
   "execution_count": null,
   "metadata": {},
   "outputs": [],
   "source": [
    "# braekup\n",
    "for i in range(int(input())):\n",
    "    minimumskill = int(input())\n",
    "    skills = int(input())\n",
    "    if skills > minimumskill:\n",
    "        print(\"YES\")\n",
    "    else:\n",
    "        print(\"NO\")"
   ]
  },
  {
   "cell_type": "code",
   "execution_count": 22,
   "metadata": {},
   "outputs": [
    {
     "name": "stdout",
     "output_type": "stream",
     "text": [
      "*   *\n",
      "*   *\n"
     ]
    }
   ],
   "source": [
    "print(\"*   *\",\"*   *\",sep=\"\\n\")"
   ]
  },
  {
   "cell_type": "code",
   "execution_count": 24,
   "metadata": {},
   "outputs": [
    {
     "data": {
      "text/plain": [
       "'af5-'"
      ]
     },
     "execution_count": 24,
     "metadata": {},
     "output_type": "execute_result"
    }
   ],
   "source": [
    "l=[\"a\",'f','5','-']\n",
    "\"\".join(l)"
   ]
  },
  {
   "cell_type": "code",
   "execution_count": 40,
   "metadata": {},
   "outputs": [
    {
     "data": {
      "text/plain": [
       "18"
      ]
     },
     "execution_count": 40,
     "metadata": {},
     "output_type": "execute_result"
    }
   ],
   "source": [
    "200%26\n"
   ]
  },
  {
   "cell_type": "code",
   "execution_count": null,
   "metadata": {},
   "outputs": [],
   "source": []
  }
 ],
 "metadata": {
  "kernelspec": {
   "display_name": "Python 3",
   "language": "python",
   "name": "python3"
  },
  "language_info": {
   "codemirror_mode": {
    "name": "ipython",
    "version": 3
   },
   "file_extension": ".py",
   "mimetype": "text/x-python",
   "name": "python",
   "nbconvert_exporter": "python",
   "pygments_lexer": "ipython3",
   "version": "3.7.3"
  }
 },
 "nbformat": 4,
 "nbformat_minor": 2
}
