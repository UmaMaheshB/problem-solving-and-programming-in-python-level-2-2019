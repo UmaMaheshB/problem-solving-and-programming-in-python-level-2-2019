{
 "cells": [
  {
   "cell_type": "code",
   "execution_count": null,
   "metadata": {},
   "outputs": [],
   "source": [
    "\n"
   ]
  },
  {
   "cell_type": "code",
   "execution_count": null,
   "metadata": {},
   "outputs": [],
   "source": [
    "# fun to read CSV data\n",
    "\n",
    "filepath = \"DataFiles/Income.csv\"\n",
    "\n",
    "import pandas as pd\n",
    "\n",
    "def readCSVdata(filepath):\n",
    "    return pd.read_csv(filepath)\n",
    "readCSVdata(filepath)"
   ]
  },
  {
   "cell_type": "code",
   "execution_count": null,
   "metadata": {},
   "outputs": [],
   "source": [
    "df=pd.read_csv(filepath)\n",
    "df.loc[[2,4]]"
   ]
  },
  {
   "cell_type": "code",
   "execution_count": null,
   "metadata": {},
   "outputs": [],
   "source": [
    "df?"
   ]
  },
  {
   "cell_type": "code",
   "execution_count": null,
   "metadata": {},
   "outputs": [],
   "source": [
    "incomedf = readCSVdata(filepath)\n",
    "\n",
    "#fun to print all column names in a single line\n",
    "#GEOID state 2005 2006 ...2013\n",
    "def printDataFRameColumn(df):\n",
    "    columns = df.columns\n",
    "    for column in columns:\n",
    "        print(column,end=\" \")\n",
    "    return\n",
    "printDataFRameColumn(incomedf)"
   ]
  },
  {
   "cell_type": "code",
   "execution_count": null,
   "metadata": {},
   "outputs": [],
   "source": [
    "#fun to access a row based on a unique column value\n",
    "\n",
    "def accessDataframeRow(df, key):\n",
    "    \n",
    "    for row in df.values:\n",
    "        if key in row:\n",
    "            for item in row:\n",
    "                print(item,end = \" \")\n",
    "    return\n",
    "accessDataframeRow(incomedf,'04000US02')"
   ]
  },
  {
   "cell_type": "code",
   "execution_count": null,
   "metadata": {
    "scrolled": false
   },
   "outputs": [],
   "source": [
    "incomedf.loc[2,4] = 62993\n",
    "incomedf"
   ]
  },
  {
   "cell_type": "code",
   "execution_count": null,
   "metadata": {},
   "outputs": [],
   "source": [
    "# Accessing a Unique value based on row, column info\n",
    "# Income of a state in a given year\n",
    "def getrowIndex(df, rowkey):\n",
    "    for i in range(len(df.values)):\n",
    "        if df.values[i][0] == rowkey or df.values[i][1] == rowkey:\n",
    "            rowindex = i\n",
    "    return rowindex\n",
    "def getColumnIndex(df, columnkey):\n",
    "    for i in range(len(df.columns)):\n",
    "        if df.columns[i] == columnkey:\n",
    "            columnindex = i\n",
    "    return columnindex\n",
    "\n",
    "def valueFromRowColumn(df, rowkey, columnkey):\n",
    "    rowindex = getrowIndex(df, rowkey)\n",
    "    columnindex = getColumnIndex(df, columnkey)\n",
    "    return df.values[rowindex][columnindex]\n",
    "valueFromRowColumn(incomedf,\"California\",'2006')"
   ]
  },
  {
   "cell_type": "code",
   "execution_count": null,
   "metadata": {},
   "outputs": [],
   "source": [
    "# fun to update data based on rowkey and column key\n",
    "def updateDataFromRowColumn(df, rowkey, columnkey, newincome):\n",
    "    rowindex = getrowIndex(df, rowkey)\n",
    "    columnindex = getColumnIndex(df, columnkey)\n",
    "    row = df.values[rowindex]\n",
    "    row[columnindex] = newincome\n",
    "    df.loc[rowindex] = row\n",
    "updateDataFromRowColumn(incomedf,\"Arizona\",\"2007\",62993)\n",
    "incomedf\n",
    "incomedf = incomedf.drop(columns=4)"
   ]
  },
  {
   "cell_type": "code",
   "execution_count": null,
   "metadata": {},
   "outputs": [],
   "source": [
    "accessDataframeRow(incomedf,56418)"
   ]
  },
  {
   "cell_type": "code",
   "execution_count": null,
   "metadata": {},
   "outputs": [],
   "source": [
    "#fun to write Data frame to csv\n",
    "\n",
    "incomedf.to_csv(filepath,index = False)\n"
   ]
  },
  {
   "cell_type": "code",
   "execution_count": null,
   "metadata": {},
   "outputs": [],
   "source": [
    "# fun to add a new row of data to DataFrame\n",
    "\n",
    "def addRowDataDataFrame(df, rowdata):\n",
    "    lastrowindex = len(df.values)-1\n",
    "    df.loc[lastrowindex+1] = rowdata\n",
    "    return\n",
    "rowdata = [1,2,3,4,5,56,13,3,2,5,67]\n",
    "addRowDataDataFrame(incomedf,rowdata)\n",
    "incomedf"
   ]
  },
  {
   "cell_type": "code",
   "execution_count": null,
   "metadata": {
    "scrolled": true
   },
   "outputs": [],
   "source": [
    "# fun to delete row data\n",
    "\n",
    "def deleteRowDataFrame(df, rowkey):\n",
    "    rowindex = getrowIndex(df, rowkey)\n",
    "    return df.drop(rowindex) \n",
    "incomedf = deleteRowDataFrame(incomedf,56)\n",
    "#incomedf = incomedf.drop(5)\n",
    "incomedf"
   ]
  },
  {
   "cell_type": "code",
   "execution_count": null,
   "metadata": {},
   "outputs": [],
   "source": [
    "incomedf"
   ]
  },
  {
   "cell_type": "markdown",
   "metadata": {},
   "source": [
    "# My Practice"
   ]
  },
  {
   "cell_type": "code",
   "execution_count": null,
   "metadata": {},
   "outputs": [],
   "source": [
    "sites=[\"http://www.wikipedia.com\",\"https://www.google.co.in\",\"https://www.hackerearth.com\",\"https://www.hackerearth.com\",\"https://www.hackerearth.com\"]\n",
    "##sites\n",
    "site_counts={}\n",
    "for site in sites:\n",
    "    site_counts[site]=site_counts.get(site,0)+1\n",
    "#print(len(site_counts))\n",
    "#print(site_counts)\n",
    "#{3:['https://www.hackerearth.com'],1:['https://www.wikipedia.com','https://www.google.com']}\n",
    "res_dict={}\n",
    "for k,v in site_counts.items():#('https://www.wikipedia.com': 1)\n",
    "    if v in res_dict:\n",
    "        l=res_dict[v]\n",
    "        l.append(k)\n",
    "        res_dict[v]=l\n",
    "    else:\n",
    "        res_dict[v]=[k]\n",
    "#print(res_dict)\n",
    "res_dict=sorted(res_dict.items(),reverse=True)\n",
    "#print(res_dict)\n",
    "for t in res_dict:\n",
    "    print(t)\n",
    "    for val in sorted(t[1],key=lambda l:l[l.index('.')+1:]):\n",
    "        print(val)"
   ]
  },
  {
   "cell_type": "code",
   "execution_count": null,
   "metadata": {},
   "outputs": [],
   "source": [
    "sites=[\"http://www.wikipedia.com\",\"https://www.google.co.in\",\"https://www.hackerearth.com\",\n",
    "       \"https://www.hackerearth.com\",\"https://www.hackerearth.com\"]\n",
    "dic = {}\n",
    "for s in sites:\n",
    "    dic[s] = dic.get(s,0)+1\n",
    "r_dict = {}\n",
    "for k,v in dic.items():\n",
    "    if v in r_dict:\n",
    "        l = r_dict[v]\n",
    "        l.append(k)\n",
    "        r_dict[v] = l\n",
    "    else:\n",
    "        r_dict[v] = [k]\n",
    "r_dict = sorted(r_dict.items(),reverse = True)\n",
    "#print(r_dict)\n",
    "for line in r_dict:\n",
    "    for l in sorted(line[1],key = lambda x:x[x.index(\".\")+1]):\n",
    "        print(l)"
   ]
  },
  {
   "cell_type": "code",
   "execution_count": null,
   "metadata": {},
   "outputs": [],
   "source": [
    "sites=[\"http://www.wikipedia.com\",\"https://www.google.co.in\",\"https://www.hackerearth.com\",\n",
    "       \"https://www.hackerearth.com\",\"https://www.hackerearth.com\"]\n",
    "d = {}\n",
    "for s in sites:\n",
    "    "
   ]
  },
  {
   "cell_type": "code",
   "execution_count": null,
   "metadata": {},
   "outputs": [],
   "source": []
  }
 ],
 "metadata": {
  "kernelspec": {
   "display_name": "Python 3",
   "language": "python",
   "name": "python3"
  },
  "language_info": {
   "codemirror_mode": {
    "name": "ipython",
    "version": 3
   },
   "file_extension": ".py",
   "mimetype": "text/x-python",
   "name": "python",
   "nbconvert_exporter": "python",
   "pygments_lexer": "ipython3",
   "version": "3.7.3"
  }
 },
 "nbformat": 4,
 "nbformat_minor": 2
}
