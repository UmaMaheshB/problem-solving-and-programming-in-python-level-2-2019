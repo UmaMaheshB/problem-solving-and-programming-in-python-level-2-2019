{
 "cells": [
  {
   "cell_type": "markdown",
   "metadata": {},
   "source": [
    "# 28 June 2019\n",
    "\n",
    "##### *Day goals*\n",
    "\n",
    "* Map \n",
    "\n",
    "* Lambda\n",
    "\n",
    "* Filter\n",
    "\n",
    "* Use cases - file / Data Encryption\n",
    "\n",
    "### Map \n",
    "\n",
    "Mapping - Entity with a Function\n",
    "\n",
    "f(x) = x`^`2 + 3`*`x + 9          \n",
    "\n",
    "x : [1,10]\n",
    "\n",
    "\n",
    "###  Syntax :map(Function,Iterable)"
   ]
  },
  {
   "cell_type": "code",
   "execution_count": null,
   "metadata": {},
   "outputs": [],
   "source": [
    "def powerN(a,n):\n",
    "    #return a**n\n",
    "    r = 1\n",
    "    for i in range(0,n):\n",
    "        r *= a\n",
    "    return r\n",
    "powerN(2,0)\n",
    "\n",
    "def cubesofelements(n):\n",
    "    return n**3"
   ]
  },
  {
   "cell_type": "code",
   "execution_count": null,
   "metadata": {},
   "outputs": [],
   "source": [
    "s = \"12345\"\n",
    "sList = list(map(int,s))\n",
    "cubesList= list(map(cubesofelements,sList))\n",
    "cubesList"
   ]
  },
  {
   "cell_type": "code",
   "execution_count": null,
   "metadata": {},
   "outputs": [],
   "source": [
    "li = [str(s) for s in range(1,10)]\n",
    "numbers = [int(i) for i in li]\n",
    "numbers\n",
    "[cubesofelements(n) for n in numbers]"
   ]
  },
  {
   "cell_type": "markdown",
   "metadata": {},
   "source": [
    "### Filter \n",
    "\n",
    "Used to check Boolean values it is also like a **Map**"
   ]
  },
  {
   "cell_type": "code",
   "execution_count": null,
   "metadata": {},
   "outputs": [],
   "source": [
    "li = [1,2,'a','r','e',4]\n",
    "\n",
    "def isDigit(c):\n",
    "    c = str(c)\n",
    "    if c.isdigit():\n",
    "        return True\n",
    "    return False\n",
    "#isDigit('1')\n",
    "\n",
    "list(filter(isDigit,li))"
   ]
  },
  {
   "cell_type": "code",
   "execution_count": null,
   "metadata": {},
   "outputs": [],
   "source": [
    "li = [1,2,'a','r','e',4]\n",
    "\n",
    "def isDigit(c):\n",
    "    c = str(c)\n",
    "    if c.isdigit():\n",
    "        return 0\n",
    "    return 1\n",
    "#isDigit('1')\n",
    "\n",
    "list(filter(isDigit,li))"
   ]
  },
  {
   "cell_type": "code",
   "execution_count": null,
   "metadata": {},
   "outputs": [],
   "source": [
    "# identify all primes in a range\n",
    "def IsPrime(n):\n",
    "    if n == 2:\n",
    "        return 1\n",
    "    for i in range(2,int(n**0.5)+1):\n",
    "        if n % i == 0:\n",
    "            return 0\n",
    "    return 1\n",
    "list(filter(IsPrime,range(2,10)))"
   ]
  },
  {
   "cell_type": "code",
   "execution_count": null,
   "metadata": {},
   "outputs": [],
   "source": [
    "#identify all primes in a range Using List Comprehension\n",
    "lb,ub = 2, 10\n",
    "primelist = [i for i in range(lb,ub+1) if IsPrime(i)]\n",
    "primelist"
   ]
  },
  {
   "cell_type": "markdown",
   "metadata": {},
   "source": [
    "# Lambda\n",
    "\n",
    "Anonymous Functions\n",
    "\n",
    "Can be embedded into Lists, Maps, Filters \n",
    "\n",
    "**Syntax**: lambda arguments : expression"
   ]
  },
  {
   "cell_type": "code",
   "execution_count": null,
   "metadata": {},
   "outputs": [],
   "source": [
    "f = lambda X:X**2\n",
    "f(2)"
   ]
  },
  {
   "cell_type": "code",
   "execution_count": null,
   "metadata": {},
   "outputs": [],
   "source": [
    "a = lambda x:x % 2 == 0\n",
    "a(1)"
   ]
  },
  {
   "cell_type": "code",
   "execution_count": null,
   "metadata": {},
   "outputs": [],
   "source": [
    "list(map(lambda x:x**3, [1,2,3,4,5,6]))"
   ]
  },
  {
   "cell_type": "code",
   "execution_count": null,
   "metadata": {},
   "outputs": [],
   "source": [
    "list(filter(lambda x: x%2 == 0, range(1,10)))"
   ]
  },
  {
   "cell_type": "code",
   "execution_count": null,
   "metadata": {},
   "outputs": [],
   "source": [
    "# cal to sum of all elements\n",
    "from random import randint\n",
    "\n",
    "marks1 = [randint(0,25) for i in range(10)]\n",
    "\n",
    "marks2 = [randint(0,25) for i in range(10)]\n",
    "\n",
    "\n",
    "Avgmarks = list(map(lambda x,y:(x+y)/2, marks1,marks2))\n",
    "Avgmarks"
   ]
  },
  {
   "cell_type": "code",
   "execution_count": null,
   "metadata": {},
   "outputs": [],
   "source": [
    "passedAvgmarks = list(filter(lambda x: x >= 10, Avgmarks))\n",
    "passedAvgmarks"
   ]
  },
  {
   "cell_type": "markdown",
   "metadata": {},
   "source": [
    "### Applying functional programming to the marks analysis application"
   ]
  },
  {
   "cell_type": "code",
   "execution_count": 22,
   "metadata": {},
   "outputs": [],
   "source": [
    "# generate Marks data\n",
    "from random import randint\n",
    "\n",
    "def generateMarks(n, lb, ub):\n",
    "    filename = \"DataFiles/marks.txt\"\n",
    "    with open(filename,'w') as f:\n",
    "        for i in range(n-1):\n",
    "            marks = randint(lb,ub)\n",
    "            f.write(str(marks)+'\\n')\n",
    "    return\n",
    "generateMarks(300,0,100)"
   ]
  },
  {
   "cell_type": "code",
   "execution_count": 28,
   "metadata": {},
   "outputs": [
    {
     "name": "stdout",
     "output_type": "stream",
     "text": [
      "['2', '12', '16', '64', '96', '34', '0', '1', '31', '4', '35', '67', '33', '17', '56', '40', '87', '60', '22', '4', '57', '72', '46', '33', '70', '68', '77', '41', '29', '52', '32', '65', '26', '50', '95', '77', '32', '83', '27', '89', '3', '16', '73', '67', '80', '10', '63', '53', '46', '21', '67', '56', '21', '19', '36', '41', '10', '61', '28', '91', '55', '20', '46', '48', '73', '23', '22', '42', '85', '59', '56', '38', '22', '2', '81', '100', '91', '87', '30', '2', '87', '80', '13', '84', '73', '84', '69', '80', '32', '88', '87', '3', '42', '71', '67', '100', '67', '95', '69', '85', '11', '50', '17', '0', '10', '24', '93', '42', '42', '43', '81', '87', '70', '40', '5', '32', '67', '16', '41', '94', '71', '100', '65', '5', '62', '15', '64', '90', '70', '94', '70', '46', '67', '60', '22', '36', '62', '26', '92', '24', '86', '67', '65', '72', '22', '25', '46', '30', '0', '86', '79', '5', '60', '30', '44', '62', '79', '70', '13', '60', '49', '73', '91', '12', '35', '59', '46', '1', '52', '67', '81', '39', '78', '0', '94', '43', '44', '15', '77', '52', '19', '55', '75', '13', '21', '44', '41', '8', '33', '67', '9', '58', '98', '25', '3', '81', '70', '91', '88', '65', '0', '89', '79', '14', '37', '29', '71', '85', '17', '25', '54', '20', '90', '99', '93', '2', '81', '68', '79', '95', '83', '21', '61', '56', '46', '83', '67', '30', '37', '71', '87', '28', '55', '13', '91', '90', '53', '55', '67', '18', '60', '17', '66', '73', '13', '33', '39', '97', '38', '19', '69', '58', '2', '31', '23', '66', '13', '29', '75', '62', '83', '0', '95', '30', '75', '47', '62', '16', '15', '100', '92', '68', '54', '6', '85', '91', '74', '54', '87', '26', '3', '71', '53', '99', '31', '68', '74', '48', '22', '54', '52', '91', '56', '62', '71', '20', '61', '57', '39', '']\n"
     ]
    },
    {
     "data": {
      "text/plain": [
       "51"
      ]
     },
     "execution_count": 28,
     "metadata": {},
     "output_type": "execute_result"
    }
   ],
   "source": [
    "# Marks Analysis \n",
    "# class avg,\n",
    "# % of passed, Failed and Distinction\n",
    "# Frequency of Highest & Lowest Mark\n",
    "\n",
    "import re \n",
    "\n",
    "def classAvg(filpath):\n",
    "    with open(filename,'r') as f:\n",
    "        data = f.read().split('\\n') # as a string\n",
    "        #markslist = re.split(\"\\n\",data)\n",
    "        print(data)\n",
    "    markslist = list(map(int,data[:len(data)-1]))\n",
    "    return sum(markslist)//len(markslist)\n",
    "    \n",
    "filename = \"DataFiles/marks.txt\"\n",
    "classAvg(filename)"
   ]
  },
  {
   "cell_type": "code",
   "execution_count": 27,
   "metadata": {},
   "outputs": [
    {
     "data": {
      "text/plain": [
       "[1, 2, 3]"
      ]
     },
     "execution_count": 27,
     "metadata": {},
     "output_type": "execute_result"
    }
   ],
   "source": [
    "l=[1,2,3,4]\n",
    "l[:3]"
   ]
  },
  {
   "cell_type": "code",
   "execution_count": 39,
   "metadata": {},
   "outputs": [
    {
     "name": "stdout",
     "output_type": "stream",
     "text": [
      "75.91973244147158\n"
     ]
    }
   ],
   "source": [
    "def readMArks(filepath):\n",
    "    with open(filepath,'r') as f:\n",
    "        filedata = f.read().split()\n",
    "    return list(map(int, filedata))\n",
    "def classAvg(filpath):\n",
    "    marks_list = readMArks(filpath)\n",
    "    return sum(marks_list)//len(marks_list)\n",
    "\n",
    "def failedPercentage(filepath):\n",
    "    marks_list = readMArks(filepath)\n",
    "    failedcount = len(list(filter(lambda x:x <35, marks_list)))\n",
    "    return (failedcount/len(marks_list))*100\n",
    "\n",
    "\n",
    "def distinctionPercentage(filepath):\n",
    "    marks_list = readMArks(filepath)\n",
    "    distinction = len(list(filter(lambda x:x <75, marks_list)))\n",
    "    return (distinction/len(marks_list))*100\n",
    "\n",
    "def hightMarksFRequency(filepath):\n",
    "    marks_list = readMArks(filepath)\n",
    "    return marks_list.count(max(marks_list))\n",
    "\n",
    "def lowMarksFRequency(filepath):\n",
    "    marks_list = readMArks(filepath)\n",
    "    return marks_list.count(min(marks_list))\n",
    "\n",
    "filepath = 'DataFiles/Marks.txt'\n",
    "print(distinctionPercentage(filepath))\n",
    "    \n",
    "\n",
    "        "
   ]
  },
  {
   "cell_type": "markdown",
   "metadata": {},
   "source": [
    "## Data Encryption\n",
    "\n",
    "\n",
    "key - mapping of characters with replacement\n",
    "\n",
    "0 -> 4\n",
    "\n",
    "1 -> 5\n",
    "\n",
    "2 -> 6\n",
    "\n",
    "3 -> 7\n",
    "\n",
    "4 -> 8 \n",
    "\n",
    "5 -> 9\n",
    "\n",
    "6 -> 0\n",
    "\n",
    "7 -> 1\n",
    "\n",
    "8 -> 2\n"
   ]
  },
  {
   "cell_type": "code",
   "execution_count": 3,
   "metadata": {},
   "outputs": [],
   "source": [
    "# function to generate key for encryption\n",
    "keypath = 'DataFiles/key.txt'\n",
    "\n",
    "def generatekey(keypath):\n",
    "    with open(keypath,'w') as f:\n",
    "        for i in range(10):\n",
    "            if i< 6:\n",
    "                f.write(str(i)+\" \"+str(i+4)+'\\n')\n",
    "            else:\n",
    "                f.write(str(i)+\" \"+str(i+4)[-1:]+'\\n')\n",
    "    return\n",
    "generatekey(keypath)"
   ]
  },
  {
   "cell_type": "code",
   "execution_count": 4,
   "metadata": {},
   "outputs": [
    {
     "data": {
      "text/plain": [
       "{'0': '4',\n",
       " '1': '5',\n",
       " '2': '6',\n",
       " '3': '7',\n",
       " '4': '8',\n",
       " '5': '9',\n",
       " '6': '0',\n",
       " '7': '1',\n",
       " '8': '2',\n",
       " '9': '3'}"
      ]
     },
     "execution_count": 4,
     "metadata": {},
     "output_type": "execute_result"
    }
   ],
   "source": [
    "datafile = 'DataFiles/marks.txt'\n",
    "\n",
    "# fun to encrypt a data file\n",
    "def dictionaryKeyFile(keyfile):\n",
    "    key = {}\n",
    "    with open(keypath,'r') as f:\n",
    "        for line in f:\n",
    "            line = line.split()\n",
    "            key[line[0]] = line[1]\n",
    "    return key\n",
    "\n",
    "\n",
    "def encryptMarksData(datafile,keyfile):\n",
    "    with open(keypath,'r+') as f:\n",
    "        for i in range(10):\n",
    "            if i< 6:\n",
    "                f.write(str(i)+\" \"+str(i+4)+'\\n')\n",
    "            else:\n",
    "                f.write(str(i)+\" \"+str(i+4)[-1:]+'\\n')\n",
    "    return\n",
    "dictionaryKeyFile('DataFiles/key.txt')"
   ]
  },
  {
   "cell_type": "code",
   "execution_count": 7,
   "metadata": {},
   "outputs": [],
   "source": [
    "def encryptedmarksData(datafile,keyfile):\n",
    "   #contruct a dictionary for key data\n",
    "    key = dictionaryKeyFile(keyfile)\n",
    "    with open(datafile, 'r') as f:\n",
    "        filedata = f.read().split('\\n')\n",
    "    with open('DataFiles/encryptionMarks.txt','w') as f:\n",
    "        for mark in filedata:\n",
    "            line = ''\n",
    "            for n in mark:\n",
    "                line += key[n]\n",
    "            f.write(line + '\\n')\n",
    "    return\n",
    "datafile = 'DataFiles/marks.txt'\n",
    "keyfile = 'DataFiles/key.txt'\n",
    "encryptedmarksData(datafile,keyfile)"
   ]
  },
  {
   "cell_type": "code",
   "execution_count": null,
   "metadata": {},
   "outputs": [],
   "source": [
    "# fun to decrypt an encrypted file\n",
    "def decrypt(encryotedfile, keyfile):\n",
    "    key = dictionaryKeyFile(keyfile)\n",
    "    key = key.items()\n",
    "    newkey ={}\n",
    "    for i in key.items():\n",
    "        new[j] = i\n",
    "    with open(encryotedfile, 'r') as f:\n",
    "        encryptedData = f.read().split('\\n')\n",
    "    with open(\"DataFiles/decryptedMarks.txt\",'w') as f:\n",
    "        \n",
    "        for encryptedmark in encryptedData:\n",
    "            line = ''\n",
    "            for n inencryptedmarks:\n",
    "                "
   ]
  },
  {
   "cell_type": "markdown",
   "metadata": {},
   "source": [
    "# My Practice"
   ]
  },
  {
   "cell_type": "code",
   "execution_count": 53,
   "metadata": {},
   "outputs": [
    {
     "data": {
      "text/plain": [
       "['1', '2', '3', '4']"
      ]
     },
     "execution_count": 53,
     "metadata": {},
     "output_type": "execute_result"
    }
   ],
   "source": [
    "sorted('1234')"
   ]
  },
  {
   "cell_type": "code",
   "execution_count": 75,
   "metadata": {},
   "outputs": [
    {
     "name": "stdout",
     "output_type": "stream",
     "text": [
      "False\n"
     ]
    }
   ],
   "source": [
    "if '11' not in '1234':\n",
    "    print(False)\n",
    "else:\n",
    "    print(True)"
   ]
  },
  {
   "cell_type": "code",
   "execution_count": 69,
   "metadata": {},
   "outputs": [
    {
     "data": {
      "text/plain": [
       "-1"
      ]
     },
     "execution_count": 69,
     "metadata": {},
     "output_type": "execute_result"
    }
   ],
   "source": [
    "l='1234'\n",
    "l.find('01')"
   ]
  },
  {
   "cell_type": "code",
   "execution_count": 72,
   "metadata": {},
   "outputs": [
    {
     "name": "stdout",
     "output_type": "stream",
     "text": [
      "1\n",
      "1234\n",
      "YES\n"
     ]
    }
   ],
   "source": [
    "def sequence(numstring):\n",
    "    sortedsequence = list(map(int,sorted(numstring)))\n",
    "    for i in range(min(sortedsequence),(max(sortedsequence))):\n",
    "        if numstring.find(str(i)) == -1:\n",
    "            return \"NO\"\n",
    "    return \"YES\"\n",
    "# Write your code here\n",
    "for t in range(int(input())):\n",
    "    numstring = input()\n",
    "    print(sequence(numstring))"
   ]
  },
  {
   "cell_type": "code",
   "execution_count": 77,
   "metadata": {},
   "outputs": [
    {
     "data": {
      "text/plain": [
       "'1 2 3 4'"
      ]
     },
     "execution_count": 77,
     "metadata": {},
     "output_type": "execute_result"
    }
   ],
   "source": [
    "\" \".join(list(map(str,[1,2,3,4])))"
   ]
  },
  {
   "cell_type": "code",
   "execution_count": null,
   "metadata": {},
   "outputs": [],
   "source": []
  }
 ],
 "metadata": {
  "kernelspec": {
   "display_name": "Python 3",
   "language": "python",
   "name": "python3"
  },
  "language_info": {
   "codemirror_mode": {
    "name": "ipython",
    "version": 3
   },
   "file_extension": ".py",
   "mimetype": "text/x-python",
   "name": "python",
   "nbconvert_exporter": "python",
   "pygments_lexer": "ipython3",
   "version": "3.7.3"
  }
 },
 "nbformat": 4,
 "nbformat_minor": 2
}
