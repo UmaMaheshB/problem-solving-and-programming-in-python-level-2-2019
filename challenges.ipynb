{
 "cells": [
  {
   "cell_type": "markdown",
   "metadata": {},
   "source": [
    "# Prime Number"
   ]
  },
  {
   "cell_type": "code",
   "execution_count": null,
   "metadata": {},
   "outputs": [],
   "source": [
    "for i in range(2,int(input())+1):\n",
    "    c=0\n",
    "    for j in range(2,i):\n",
    "        if i%j==0:\n",
    "            c=1\n",
    "            break\n",
    "    if c==0:\n",
    "        print(i,end=\" \")"
   ]
  },
  {
   "cell_type": "markdown",
   "metadata": {},
   "source": [
    "# Palindromic String"
   ]
  },
  {
   "cell_type": "code",
   "execution_count": null,
   "metadata": {},
   "outputs": [],
   "source": [
    "def ispalindrome(word):\n",
    "    if word==word[::-1]:\n",
    "        return \"YES\"\n",
    "    return \"NO\"\n",
    "print(ispalindrome(input()))"
   ]
  },
  {
   "cell_type": "markdown",
   "metadata": {},
   "source": [
    "# Cost of balloons <small> optional </small>"
   ]
  },
  {
   "cell_type": "code",
   "execution_count": null,
   "metadata": {},
   "outputs": [],
   "source": [
    "def mincost(g,b,l):\n",
    "    fst=sum([t[0] for t in l])\n",
    "    snd=sum([t[1] for t in l])\n",
    "    results=((fst,snd))\n",
    "    lb,hb=sorted((g,b))\n",
    "    return min(results)*hb+max(results)*lb\n",
    "\n",
    "t=int(input())\n",
    "for i in range(t):\n",
    "    g,b=list(map(int,input().split()))\n",
    "    l=[]\n",
    "    for i in range(int(input())):\n",
    "        #l.append(list(map(int,input())))\n",
    "        \n",
    "        l.append(list(map(int,input().split())))\n",
    "    print(mincost(g,b,l))"
   ]
  },
  {
   "cell_type": "markdown",
   "metadata": {},
   "source": [
    "# Count Divisors"
   ]
  },
  {
   "cell_type": "code",
   "execution_count": null,
   "metadata": {},
   "outputs": [],
   "source": [
    "def final_count(l,r,k):\n",
    "    count=0\n",
    "    for i in range(l,r+1):\n",
    "        if i%k==0:\n",
    "            count+=1\n",
    "    return count\n",
    "vals=list(map(int,input().split()))\n",
    "print(final_count(vals[0],vals[1],vals[2]))"
   ]
  },
  {
   "cell_type": "markdown",
   "metadata": {},
   "source": [
    "# Factorial!"
   ]
  },
  {
   "cell_type": "code",
   "execution_count": null,
   "metadata": {},
   "outputs": [],
   "source": [
    "def factorial(n):\n",
    "    res=1\n",
    "    while(n!=1):\n",
    "        res*=n\n",
    "        n-=1\n",
    "    return res\n",
    "print(factorial(int(input())))"
   ]
  },
  {
   "cell_type": "markdown",
   "metadata": {},
   "source": [
    "# Toggle String"
   ]
  },
  {
   "cell_type": "code",
   "execution_count": null,
   "metadata": {},
   "outputs": [],
   "source": [
    "s=input(\"\")\n",
    "print(s.swapcase())"
   ]
  },
  {
   "cell_type": "markdown",
   "metadata": {},
   "source": [
    "# Roy and Profile Picture"
   ]
  },
  {
   "cell_type": "code",
   "execution_count": null,
   "metadata": {},
   "outputs": [],
   "source": [
    "l=int(input())\n",
    "n=int(input())\n",
    "for i in range(n):\n",
    "    w,h=list(map(int,input().split()))\n",
    "    if w<l or h<l:\n",
    "        print(\"UPLOAD ANOTHER\")\n",
    "    elif w>=l and h>=l:\n",
    "        if w==h:\n",
    "            print(\"ACCEPTED\")\n",
    "        else:\n",
    "            print(\"CROP IT\")"
   ]
  },
  {
   "cell_type": "markdown",
   "metadata": {},
   "source": [
    "# Two Strings"
   ]
  },
  {
   "cell_type": "code",
   "execution_count": null,
   "metadata": {},
   "outputs": [],
   "source": [
    "def twostrings(s1,s2):\n",
    "    if \"\".join(sorted(s1))==\"\".join(sorted(s2)):\n",
    "        return \"YES\"\n",
    "    return \"NO\"\n",
    "\n",
    "words=[input().split() for i in range(int(input()))]\n",
    "for word in words:\n",
    "    print(twostrings(word[0],word[1]))    "
   ]
  },
  {
   "cell_type": "markdown",
   "metadata": {},
   "source": [
    "# Duration"
   ]
  },
  {
   "cell_type": "code",
   "execution_count": null,
   "metadata": {},
   "outputs": [],
   "source": [
    "def duration(sh,sm,eh,em):\n",
    "    s=0\n",
    "    val=abs((sh*60+sm)-(eh*60+em))\n",
    "    return val//60,val%60\n",
    "for i in range(int(input())):\n",
    "    print(*duration(*map(int,input().split())))"
   ]
  },
  {
   "cell_type": "markdown",
   "metadata": {},
   "source": [
    "# Char Sum"
   ]
  },
  {
   "cell_type": "code",
   "execution_count": null,
   "metadata": {},
   "outputs": [],
   "source": [
    "s=input(\"\")\n",
    "c=0\n",
    "for char in s:\n",
    "    c+=96-ord(char)\n",
    "print(abs(c))"
   ]
  },
  {
   "cell_type": "markdown",
   "metadata": {},
   "source": [
    "# Lift queries <small> optional </small>"
   ]
  },
  {
   "cell_type": "code",
   "execution_count": null,
   "metadata": {},
   "outputs": [],
   "source": [
    "bh=['A',0,0,0,0,0,0,'B']\n",
    "for i in range(int(input())):\n",
    "    q=int(input())\n",
    "    a_pos=bh.index(\"A\")\n",
    "    b_pos=bh.index(\"B\")\n",
    "    A=abs(a_pos-q)\n",
    "    B=abs(b_pos-q)\n",
    "    if A<B:\n",
    "        print(\"A\")\n",
    "        bh[bh.index(\"A\")]=0\n",
    "        bh[q]=\"A\"\n",
    "    elif B<A:\n",
    "        print(\"B\")\n",
    "        bh[bh.index(\"B\")]=0\n",
    "        bh[q]=\"B\"\n",
    "    elif A==B:\n",
    "        if a_pos<b_pos:\n",
    "            print(\"A\")\n",
    "            bh[bh.index(\"A\")]=0\n",
    "            bh[q]=\"A\"\n",
    "        else:\n",
    "            print(\"B\")\n",
    "            bh[bh.index(\"B\")]=0\n",
    "            bh[q]=\"B\"\n",
    "    \n"
   ]
  },
  {
   "cell_type": "code",
   "execution_count": null,
   "metadata": {},
   "outputs": [],
   "source": []
  },
  {
   "cell_type": "code",
   "execution_count": null,
   "metadata": {},
   "outputs": [],
   "source": []
  }
 ],
 "metadata": {
  "kernelspec": {
   "display_name": "Python 3",
   "language": "python",
   "name": "python3"
  },
  "language_info": {
   "codemirror_mode": {
    "name": "ipython",
    "version": 3
   },
   "file_extension": ".py",
   "mimetype": "text/x-python",
   "name": "python",
   "nbconvert_exporter": "python",
   "pygments_lexer": "ipython3",
   "version": "3.7.3"
  }
 },
 "nbformat": 4,
 "nbformat_minor": 2
}
