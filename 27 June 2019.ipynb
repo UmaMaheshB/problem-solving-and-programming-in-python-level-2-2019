{
 "cells": [
  {
   "cell_type": "markdown",
   "metadata": {},
   "source": [
    "# 27 June 2019\n"
   ]
  },
  {
   "cell_type": "markdown",
   "metadata": {},
   "source": [
    "### 1. fun to print all combinations of pairs if integers in a unique list\n",
    "[1,2,3]  -> (1,2),(1,3),(2,3) -> 3c2 -> 3!/((3-2)!*2!)  \n",
    "\n",
    "`NcR = N!/((N-R)!*R!)`"
   ]
  },
  {
   "cell_type": "code",
   "execution_count": null,
   "metadata": {},
   "outputs": [],
   "source": [
    "def combinations(li):\n",
    "    for i in range(len(li)-1): #012\n",
    "        for j in range(i+1,len(li)):# 123\n",
    "            print(li[i],li[j])\n",
    "combinations([1,2,3,4,8])"
   ]
  },
  {
   "cell_type": "code",
   "execution_count": null,
   "metadata": {},
   "outputs": [],
   "source": [
    "def combinations_3(li):\n",
    "    for i in range(len(li)-2): # 0-3 ->012\n",
    "        for j in range(i+1,len(li)-1):\n",
    "            for k in range(j+1,len(li)):\n",
    "                print(li[i],li[j],li[k])\n",
    "combinations_3([1,2,3,4,5])"
   ]
  },
  {
   "cell_type": "code",
   "execution_count": null,
   "metadata": {},
   "outputs": [],
   "source": [
    "def KLargestDifferencePairs(li):\n",
    "    #new_li = []\n",
    "    for i in range(len(li)-1):\n",
    "        for j in range(i+1,len(li)):\n",
    "            d = abs(li[i]-li[j])\n",
    "            if d not in li:\n",
    "                li.append(d)\n",
    "    return li\n",
    "KLargestDifferencePairs([1,9])"
   ]
  },
  {
   "cell_type": "code",
   "execution_count": null,
   "metadata": {},
   "outputs": [],
   "source": [
    "%%time\n",
    "def DifferencePairs(li):\n",
    "    copy_li = li[:]\n",
    "    newElements = []\n",
    "    for i in range(len(li)-1):\n",
    "        for j in range(i+1,len(li)):\n",
    "            d = abs(li[i]-li[j])\n",
    "            if d not in copy_li:\n",
    "                newElements.append(d)\n",
    "    li.extend(newElements)\n",
    "    return [copy_li,li]\n",
    "\n",
    "def medium(li,k):\n",
    "    while(True):\n",
    "        li3 = DifferencePairs(li)\n",
    "        if li3[0] == li3[1]:\n",
    "            break\n",
    "    if len(li3[0]) >= k:\n",
    "        return sorted(li3[0],reverse=True)[k-1]\n",
    "    else:\n",
    "        return -1\n",
    "for t in range(int(input())):\n",
    "    n = int(input())\n",
    "    ar = list(map(int,input().split()))[:n]\n",
    "    k = int(input())\n",
    "    print(medium(ar,k))"
   ]
  },
  {
   "cell_type": "code",
   "execution_count": null,
   "metadata": {},
   "outputs": [],
   "source": [
    "%%time\n",
    "def DifferencePairs(li):\n",
    "    copy_li = li[:]\n",
    "    newElements = []\n",
    "    for i in range(len(li)-1):\n",
    "        for j in range(i+1,len(li)):\n",
    "            d = abs(li[i]-li[j])\n",
    "            if d not in li and d not in newElements:\n",
    "                newElements.append(d)\n",
    "    li.extend(newElements)\n",
    "    return [copy_li,li]\n",
    "\n",
    "def medium(li,k):\n",
    "    while(True):\n",
    "        li3 = DifferencePairs(li)\n",
    "        if li3[0] == li3[1]:\n",
    "            break\n",
    "    if len(li3[0]) >= k:\n",
    "        return sorted(li3[0],reverse=True)[k-1]\n",
    "    else:\n",
    "        return -1\n",
    "for t in range(int(input())):\n",
    "    n = int(input())\n",
    "    ar = list(map(int,input().split()))[:n]\n",
    "    k = int(input())\n",
    "    print(medium(ar,k))"
   ]
  },
  {
   "cell_type": "code",
   "execution_count": null,
   "metadata": {},
   "outputs": [],
   "source": [
    "def DifferencePairs_optimized(li):\n",
    "    copy_li = li.copy()\n",
    "    newElements = []\n",
    "    for i in range(len(li)-1):\n",
    "        for j in range(i+1,len(li)):\n",
    "            d = abs(li[i]-li[j])\n",
    "            if d not in li and d not in newElements:\n",
    "                newElements.append(d)\n",
    "    li.extend(newElements)\n",
    "    return [copy_li,li]\n",
    "DifferencePairs_optimized([2,3,6,9,12])"
   ]
  },
  {
   "cell_type": "code",
   "execution_count": null,
   "metadata": {},
   "outputs": [],
   "source": [
    "%%time\n",
    "# medium level problem my version\n",
    "def kthlargestnumber(ar,k):\n",
    "    maxval = max(ar)\n",
    "    if maxval > k:\n",
    "        return (maxval+1)-k\n",
    "    return -1\n",
    "\n",
    "for t in range(int(input())):\n",
    "    n = int(input())\n",
    "    ar = list(map(int,input().split()))[:n]\n",
    "    k = int(input())\n",
    "    print(kthlargestnumber(ar,k))"
   ]
  },
  {
   "cell_type": "code",
   "execution_count": null,
   "metadata": {},
   "outputs": [],
   "source": [
    "%%time\n",
    "# medium level problem\n",
    "def kthlargestnumber_1(ar,k):\n",
    "    maxval = max(ar)\n",
    "    if maxval > k:\n",
    "        return (maxval+1)-k\n",
    "    return -1\n",
    "with open(\"DataFiles\\medium_input.txt\",'r') as f:\n",
    "    t = int(f.readline())\n",
    "    for t in range(t):\n",
    "        f.readline()\n",
    "        ar = list(map(int,f.readline().split()))\n",
    "        k = int(f.readline())\n",
    "        print(max(li)-k+1)"
   ]
  },
  {
   "cell_type": "code",
   "execution_count": null,
   "metadata": {},
   "outputs": [],
   "source": [
    "a = [1,2,3]\n",
    "ca =a[:] # data copy through direct referencing\n",
    "ca"
   ]
  },
  {
   "cell_type": "code",
   "execution_count": null,
   "metadata": {},
   "outputs": [],
   "source": [
    "with open(\"DataFiles/medium_input.txt\",'r') as f:\n",
    "    t = f.readlines()\n",
    "    print(type(t[0]))"
   ]
  },
  {
   "cell_type": "code",
   "execution_count": null,
   "metadata": {},
   "outputs": [],
   "source": [
    "%%time\n",
    "ca.append(77)\n",
    "a\n",
    "ca"
   ]
  },
  {
   "cell_type": "markdown",
   "metadata": {},
   "source": [
    "# **Set - Data Structures in python**\n",
    "\n",
    "\n",
    "set is a literable entity ->we can acces elements only with some for loop\n",
    "\n",
    "{ }.add(value) # is used to add single element \n",
    " \n",
    "{ }.update(iterable) # to add multiple values to a set \n",
    "\n",
    "set object doesn't have any order\n",
    "\n"
   ]
  },
  {
   "cell_type": "code",
   "execution_count": null,
   "metadata": {},
   "outputs": [],
   "source": [
    "a = {1,2,3,4,5,6,6} # set will remove and convert it bank into unique data\n",
    "a.add(8)\n",
    "li = [19,11,1]\n",
    "b = {12,23,45}\n",
    "a.update(b)\n",
    "a.update(\"abcd\")\n",
    "a.update(li,b)\n",
    "a"
   ]
  },
  {
   "cell_type": "code",
   "execution_count": null,
   "metadata": {},
   "outputs": [],
   "source": [
    "a.discard('g') # to remove single elementb "
   ]
  },
  {
   "cell_type": "code",
   "execution_count": null,
   "metadata": {},
   "outputs": [],
   "source": [
    "a = {10.89,1,2,3,4,5,6}\n",
    "b = {7,8,9,1,2,3}\n",
    "a.union(b) # A U B = B U A\n",
    "#b,a"
   ]
  },
  {
   "cell_type": "code",
   "execution_count": null,
   "metadata": {},
   "outputs": [],
   "source": [
    "a = {10.89,1,2,3,4,5,6}\n",
    "b = {7,8,9,1,2,3}\n",
    "a.intersection(b)"
   ]
  },
  {
   "cell_type": "code",
   "execution_count": null,
   "metadata": {},
   "outputs": [],
   "source": [
    "a.intersection_update(b)\n",
    "a"
   ]
  },
  {
   "cell_type": "code",
   "execution_count": null,
   "metadata": {},
   "outputs": [],
   "source": [
    "a.isdisjoint(b)"
   ]
  },
  {
   "cell_type": "code",
   "execution_count": null,
   "metadata": {},
   "outputs": [],
   "source": [
    "c = {111,123}\n",
    "a.isdisjoint(c)"
   ]
  },
  {
   "cell_type": "code",
   "execution_count": null,
   "metadata": {},
   "outputs": [],
   "source": [
    "a #{1, 2, 3}\n",
    "b #{1, 2, 3, 7, 8, 9}\n",
    "b - a # all elements of \"b\" which are not in \"a\" and \"b\" length should be greater than are equal to \"a\" lenght\n",
    "a ^ b # elements either  in \"a\" or in \"b\"\n",
    "\n",
    "v = set() # if we want to create empty set use set() method only\n",
    "\n",
    "li = [1,2,3,4,2,1,2,3,4]\n",
    "u = set(li)\n",
    "u"
   ]
  },
  {
   "cell_type": "markdown",
   "metadata": {},
   "source": [
    "# Functional programming \n",
    "\n",
    "-List Comprehension\n",
    "\n",
    "-Iterators\n",
    "\n",
    "-Generators\n",
    "\n",
    "-Maps\n",
    "\n",
    "-Lambda\n",
    "\n",
    "-Builtin Functions\n",
    "\n",
    "-Use Cases\n",
    "\n",
    "    \n",
    "        Procedural : C\n",
    "\n",
    "        Object Oriented : Java, Python\n",
    "\n",
    "        Scripting : PHP, Python, Javascripting, Shell, perl\n",
    "\n",
    "        Functional : Python, Haskell, Scala\n",
    "\n",
    "        Logic : prolog, Lisp"
   ]
  },
  {
   "cell_type": "markdown",
   "metadata": {},
   "source": [
    "# List Comprehension"
   ]
  },
  {
   "cell_type": "code",
   "execution_count": null,
   "metadata": {},
   "outputs": [],
   "source": [
    "# N natural number in a list\n",
    "n = 10\n",
    "li = []\n",
    "for i in range(1,n+1):\n",
    "    li.append(i)\n",
    "li\n",
    "li2 = [i for i in range(1,11)]\n",
    "li2"
   ]
  },
  {
   "cell_type": "code",
   "execution_count": null,
   "metadata": {},
   "outputs": [],
   "source": [
    "# Apply list comprehension to store the cubes of  N natural numbers\n",
    "ncube = [i**0.5 for i in range(1,11)]\n",
    "ncube"
   ]
  },
  {
   "cell_type": "code",
   "execution_count": null,
   "metadata": {},
   "outputs": [],
   "source": [
    "# function to cal the factorial of n natural numbers\n",
    "def factorial(n):\n",
    "    if n == 0 or n == 1:\n",
    "        return 1\n",
    "    return n*factorial(n-1)\n",
    "#factorial(4)\n",
    "n = 10\n",
    "factorialList = [factorial(i) for i in range(1,n+1)]\n",
    "factorialList"
   ]
  },
  {
   "cell_type": "code",
   "execution_count": null,
   "metadata": {},
   "outputs": [],
   "source": [
    "# store Cumulative Sum of numbers till n in \n",
    "# n = 5 -> [1,3,6,10,15]\n",
    "n = 4\n",
    "csumList = [sum(range(1,v+1)) for v in range(1,n+1)]\n",
    "csumList "
   ]
  },
  {
   "cell_type": "code",
   "execution_count": null,
   "metadata": {},
   "outputs": [],
   "source": [
    "# list comprehension to store\n",
    "# only leap years in a given time period\n",
    "st,et = 1970,2019\n",
    "LeapYear = [ year for year in range(st,et+1) \n",
    "            if year%400 == 0 or (year%4 == 0 and year%100 != 0)]\n",
    "LeapYear"
   ]
  },
  {
   "cell_type": "code",
   "execution_count": null,
   "metadata": {},
   "outputs": [],
   "source": [
    "s = \"i love my india\"\n",
    "word = [w for w in s.split() if w[0] =='i']\n",
    "word"
   ]
  },
  {
   "cell_type": "code",
   "execution_count": 5,
   "metadata": {},
   "outputs": [
    {
     "data": {
      "text/plain": [
       "[1, 2, 3]"
      ]
     },
     "execution_count": 5,
     "metadata": {},
     "output_type": "execute_result"
    }
   ],
   "source": [
    "li = [1,2,3,2,1]\n",
    "u2 = []\n",
    "#unique = [li[i] for i in range(0,len(li)-1) if sorted(li)[i] != sorted(li)[i-1]]\n",
    "#unique = [li[i] for i in range(0,len(li)-1) if (li[i] != li[i+1] and i < len(li)-1) or (i == len(li)-1)]\n",
    "unique = [u2.append(i) for i in li if i not in u2 ]\n",
    "#[u2.append(i) for i in li if i not in u2 ]\n",
    "u2"
   ]
  },
  {
   "cell_type": "markdown",
   "metadata": {},
   "source": [
    "# Iterators\n",
    "\n",
    "Iterable :- Strings, lists, tuples, sets, Dictionaries\n",
    "\n",
    "Covnert Iterable to Iterator -> Iter()\n",
    "\n",
    "for Loop :\n",
    "\n",
    "Iterator :"
   ]
  },
  {
   "cell_type": "code",
   "execution_count": 1,
   "metadata": {},
   "outputs": [
    {
     "name": "stdout",
     "output_type": "stream",
     "text": [
      "1: \n",
      "p\n",
      "\n",
      "\n",
      "y\n"
     ]
    }
   ],
   "source": [
    "l = [1,2,3,5,6]\n",
    "iter(l)\n",
    "it = iter(\"python\")\n",
    "print('1: ')\n",
    "print(next(it))\n",
    "print('\\n')\n",
    "print(next(it))"
   ]
  },
  {
   "cell_type": "code",
   "execution_count": 5,
   "metadata": {},
   "outputs": [
    {
     "data": {
      "text/plain": [
       "str_iterator"
      ]
     },
     "execution_count": 5,
     "metadata": {},
     "output_type": "execute_result"
    }
   ],
   "source": [
    "type(iter(\"abc\"))"
   ]
  },
  {
   "cell_type": "markdown",
   "metadata": {},
   "source": [
    "# Generator \n",
    "Generator is a function -> for generating code\n"
   ]
  },
  {
   "cell_type": "code",
   "execution_count": 11,
   "metadata": {},
   "outputs": [
    {
     "name": "stdout",
     "output_type": "stream",
     "text": [
      "<generator object generator at 0x0000026256919390> <class 'generator'>\n",
      "2\n",
      "8\n",
      "512\n"
     ]
    }
   ],
   "source": [
    "\n",
    "def generator():\n",
    "    n = 2\n",
    "    yield n\n",
    "    \n",
    "    n = n ** 3\n",
    "    yield n\n",
    "    \n",
    "    n = n ** 3\n",
    "    yield n\n",
    "    \n",
    "a = generator()\n",
    "print(a,type(a))\n",
    "print(next(a))\n",
    "print(next(a))\n",
    "print(next(a))\n",
    "# print(next(a))"
   ]
  },
  {
   "cell_type": "code",
   "execution_count": 16,
   "metadata": {},
   "outputs": [
    {
     "data": {
      "text/plain": [
       "2417851639229258349412352"
      ]
     },
     "execution_count": 16,
     "metadata": {},
     "output_type": "execute_result"
    }
   ],
   "source": [
    "def generator1():\n",
    "    n = 2\n",
    "    while True:\n",
    "        n**=3\n",
    "        yield n\n",
    "b = generator1()\n",
    "next(b)\n",
    "next(b)\n",
    "next(b)\n",
    "next(b)"
   ]
  },
  {
   "cell_type": "code",
   "execution_count": null,
   "metadata": {},
   "outputs": [],
   "source": []
  },
  {
   "cell_type": "markdown",
   "metadata": {},
   "source": [
    "# My practies"
   ]
  },
  {
   "cell_type": "code",
   "execution_count": null,
   "metadata": {
    "scrolled": true
   },
   "outputs": [],
   "source": [
    "n = \"\\n\".join([ 'ABCDEFGHIJKLIMNOQRSTUVWXYZ'[i:i+4]  for i in range(0,len('ABCDEFGHIJKLIMNOQRSTUVWXYZ'),4)])\n",
    "print(n)"
   ]
  },
  {
   "cell_type": "code",
   "execution_count": null,
   "metadata": {},
   "outputs": [],
   "source": [
    "l = \"girisha devara\".split()\n",
    "s = l[1]\n",
    "\".\".join((s[0],l[0]))"
   ]
  },
  {
   "cell_type": "code",
   "execution_count": null,
   "metadata": {},
   "outputs": [],
   "source": [
    "x = \"bharathi kalaga\"\n",
    "print(x[x.index(' ')+1],'.',x[0:x.index(\" \")],sep = \"\")"
   ]
  },
  {
   "cell_type": "markdown",
   "metadata": {},
   "source": [
    "#  Tasks \n",
    "kth lowest frequency\n"
   ]
  }
 ],
 "metadata": {
  "kernelspec": {
   "display_name": "Python 3",
   "language": "python",
   "name": "python3"
  },
  "language_info": {
   "codemirror_mode": {
    "name": "ipython",
    "version": 3
   },
   "file_extension": ".py",
   "mimetype": "text/x-python",
   "name": "python",
   "nbconvert_exporter": "python",
   "pygments_lexer": "ipython3",
   "version": "3.7.3"
  }
 },
 "nbformat": 4,
 "nbformat_minor": 2
}
