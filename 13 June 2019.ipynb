{
 "cells": [
  {
   "cell_type": "code",
   "execution_count": 4,
   "metadata": {},
   "outputs": [
    {
     "name": "stdout",
     "output_type": "stream",
     "text": [
      "10 9 8 7 6 5 4 3 2 "
     ]
    }
   ],
   "source": [
    "# fun to print reverse of given range in the \n",
    "def reverseRange(start,end):\n",
    "    for v in range(end,start,-1):\n",
    "        print(v,end=' ')\n",
    "    return\n",
    "reverseRange(1,10)"
   ]
  },
  {
   "cell_type": "code",
   "execution_count": 9,
   "metadata": {},
   "outputs": [
    {
     "name": "stdout",
     "output_type": "stream",
     "text": [
      "9 7 5 3 1 "
     ]
    }
   ],
   "source": [
    "# print the odd num in reverse order\n",
    "def reversetheoddnum(start,end):\n",
    "    for i in range(end,start-1,-1):\n",
    "        if i%2==1:\n",
    "            print(i,end=\" \")\n",
    "    return \n",
    "reversetheoddnum(1,10)"
   ]
  },
  {
   "cell_type": "code",
   "execution_count": 11,
   "metadata": {},
   "outputs": [
    {
     "data": {
      "text/plain": [
       "15"
      ]
     },
     "execution_count": 11,
     "metadata": {},
     "output_type": "execute_result"
    }
   ],
   "source": [
    "#fun to cal sum of nums in range\n",
    "def sumofrange(start,end):\n",
    "    s=0\n",
    "    for i in range(start,end+1):\n",
    "        s+=i\n",
    "    return s\n",
    "sumofrange(1,5)"
   ]
  },
  {
   "cell_type": "code",
   "execution_count": 13,
   "metadata": {},
   "outputs": [
    {
     "data": {
      "text/plain": [
       "3"
      ]
     },
     "execution_count": 13,
     "metadata": {},
     "output_type": "execute_result"
    }
   ],
   "source": [
    "# cal the avg of range of numbers\n",
    "def avgofrange(start,end):\n",
    "    s=0\n",
    "    c=0\n",
    "    for i in range(start,end+1):\n",
    "        s+=i\n",
    "        c+=1\n",
    "    return s//c\n",
    "avgofrange(1,5)"
   ]
  },
  {
   "cell_type": "code",
   "execution_count": 19,
   "metadata": {},
   "outputs": [
    {
     "data": {
      "text/plain": [
       "6"
      ]
     },
     "execution_count": 19,
     "metadata": {},
     "output_type": "execute_result"
    }
   ],
   "source": [
    "# cal the avg of range of numbers Same as above\n",
    "def avgrange(s,e):\n",
    "    return sum(range(s,e))//(e-s)+1\n",
    "avgrange(1,10)"
   ]
  },
  {
   "cell_type": "code",
   "execution_count": 24,
   "metadata": {},
   "outputs": [
    {
     "name": "stdout",
     "output_type": "stream",
     "text": [
      "2000 2004 2008 2012 2016 2020 "
     ]
    }
   ],
   "source": [
    "#fn to print all leap years in a given timr period \n",
    "# 2000 2020 -> 2000 2004 2008 2012 2016 2020\n",
    "\n",
    "def isLeapyear(year):\n",
    "    if year%400==0 or (year%100!=0 and year%4==0):\n",
    "        return True\n",
    "    return False\n",
    "def generateLeapYear(s,e):\n",
    "    for i in range(s,e+1):\n",
    "        if isLeapyear(i):\n",
    "            print(i,end=\" \")\n",
    "generateLeapYear(2000,2020)"
   ]
  },
  {
   "cell_type": "code",
   "execution_count": 28,
   "metadata": {},
   "outputs": [
    {
     "data": {
      "text/plain": [
       "7671"
      ]
     },
     "execution_count": 28,
     "metadata": {},
     "output_type": "execute_result"
    }
   ],
   "source": [
    "#cal num of days in a time period using leap year logic\n",
    "def numofdaysintimeperiod(s,e):\n",
    "    days=0\n",
    "    for i in range(s,e+1):\n",
    "        if isLeapyear(i):\n",
    "            days+=366\n",
    "        else:\n",
    "            days+=365\n",
    "    return days\n",
    "numofdaysintimeperiod(2000,2020)"
   ]
  },
  {
   "cell_type": "code",
   "execution_count": 31,
   "metadata": {},
   "outputs": [
    {
     "ename": "SyntaxError",
     "evalue": "unexpected EOF while parsing (<ipython-input-31-855718d2c7d4>, line 5)",
     "output_type": "error",
     "traceback": [
      "\u001b[1;36m  File \u001b[1;32m\"<ipython-input-31-855718d2c7d4>\"\u001b[1;36m, line \u001b[1;32m5\u001b[0m\n\u001b[1;33m    if isleapYear(i) and (m1==2):\u001b[0m\n\u001b[1;37m                                 ^\u001b[0m\n\u001b[1;31mSyntaxError\u001b[0m\u001b[1;31m:\u001b[0m unexpected EOF while parsing\n"
     ]
    }
   ],
   "source": [
    "# fun to cal num of hrs for a given period in range\n",
    "#11,1975,3,1999\n",
    "def hrrange(m1,y1,m2,y2):\n",
    "    for i in range(y1,y2):\n",
    "        if isleapYear(i) and (m1==2):\n",
    "            \n"
   ]
  },
  {
   "cell_type": "markdown",
   "metadata": {},
   "source": [
    "# Optional practies \n",
    "- fn to generate n odd armstrong numbers\n",
    "    - i/p-- 4\n",
    "    - o/p-- 1, 3, 5, 7.\n",
    "- fn to cal avg of all factorials in a given range\n",
    "    - i/p-- 2-4\n",
    "    - o/p-- (2!+3!+4!)/3\n",
    "- fn to generate multiplication table for a number in a given range\n",
    "    - i/p-- 2-4\n",
    "    - o/p-- 2 table 3 table 4 table"
   ]
  },
  {
   "cell_type": "code",
   "execution_count": 10,
   "metadata": {},
   "outputs": [
    {
     "ename": "TypeError",
     "evalue": "numofdaysintimeperiod() missing 1 required positional argument: 'e'",
     "output_type": "error",
     "traceback": [
      "\u001b[1;31m---------------------------------------------------------------------------\u001b[0m",
      "\u001b[1;31mTypeError\u001b[0m                                 Traceback (most recent call last)",
      "\u001b[1;32m<ipython-input-10-497505935b19>\u001b[0m in \u001b[0;36m<module>\u001b[1;34m\u001b[0m\n\u001b[0;32m      7\u001b[0m             \u001b[0mdays\u001b[0m\u001b[1;33m+=\u001b[0m\u001b[1;36m365\u001b[0m\u001b[1;33m\u001b[0m\u001b[1;33m\u001b[0m\u001b[0m\n\u001b[0;32m      8\u001b[0m     \u001b[1;32mreturn\u001b[0m \u001b[0mdays\u001b[0m\u001b[1;33m\u001b[0m\u001b[1;33m\u001b[0m\u001b[0m\n\u001b[1;32m----> 9\u001b[1;33m \u001b[0mnumofdaysintimeperiod\u001b[0m\u001b[1;33m(\u001b[0m\u001b[1;33m*\u001b[0m\u001b[0mrange\u001b[0m\u001b[1;33m(\u001b[0m\u001b[1;36m2000\u001b[0m\u001b[1;33m,\u001b[0m\u001b[1;36m2001\u001b[0m\u001b[1;33m)\u001b[0m\u001b[1;33m)\u001b[0m\u001b[1;33m\u001b[0m\u001b[1;33m\u001b[0m\u001b[0m\n\u001b[0m",
      "\u001b[1;31mTypeError\u001b[0m: numofdaysintimeperiod() missing 1 required positional argument: 'e'"
     ]
    }
   ],
   "source": [
    "def numofdaysintimeperiod(s,e):\n",
    "    days=0\n",
    "    for i in range(s,e+1):\n",
    "        if isLeapyear(i):\n",
    "            days+=366\n",
    "        else:\n",
    "            days+=365\n",
    "    return days\n",
    "#numofdaysintimeperiod(*range(2000,2001))"
   ]
  },
  {
   "cell_type": "code",
   "execution_count": 5,
   "metadata": {},
   "outputs": [],
   "source": [
    "def isLeapyear(year):\n",
    "    if year%400==0 or (year%100!=0 and year%4==0):\n",
    "        return True\n",
    "    return False"
   ]
  },
  {
   "cell_type": "code",
   "execution_count": 4,
   "metadata": {},
   "outputs": [
    {
     "data": {
      "text/plain": [
       "48"
      ]
     },
     "execution_count": 4,
     "metadata": {},
     "output_type": "execute_result"
    }
   ],
   "source": [
    "def numOfHrs(days):\n",
    "   return days*24\n",
    "numOfHrs(2)"
   ]
  },
  {
   "cell_type": "code",
   "execution_count": 2,
   "metadata": {},
   "outputs": [
    {
     "data": {
      "text/plain": [
       "31"
      ]
     },
     "execution_count": 2,
     "metadata": {},
     "output_type": "execute_result"
    }
   ],
   "source": [
    "def numOfDaysOfMonth(month):\n",
    "   if(month<=7 and month%2!=0) or month>=8 and month%2==0:\n",
    "       return 31\n",
    "   else:\n",
    "       return 30\n",
    "numOfDaysOfMonth(12)"
   ]
  },
  {
   "cell_type": "code",
   "execution_count": 19,
   "metadata": {},
   "outputs": [
    {
     "data": {
      "text/plain": [
       "29904"
      ]
     },
     "execution_count": 19,
     "metadata": {},
     "output_type": "execute_result"
    }
   ],
   "source": [
    "\n",
    "def noOfhoursBetweenYears(start_month,start_year,end_month,end_year):\n",
    "    days=0\n",
    "    if start_year==end_year:\n",
    "        for month in range(start_month,end_month+1):\n",
    "            if month==2:\n",
    "                if isLeapyear(start_year):\n",
    "                    days+=29\n",
    "                else:\n",
    "                    days+=28\n",
    "            else:\n",
    "                days+=numOfDaysOfMonth(month)\n",
    "        return numOfHrs(days)\n",
    "    else:\n",
    "        days+=numofdaysintimeperiod(start_year+1,end_year-1)\n",
    "        for month in range(start_month,13):\n",
    "            if month==2:\n",
    "                if isLeapyear(start_year):\n",
    "                    days+=29\n",
    "                else:\n",
    "                    days+=28\n",
    "            else:\n",
    "                days+=numOfDaysOfMonth(month)\n",
    "        for month in range(1,end_month+1):\n",
    "            if month==2:\n",
    "                if isLeapyear(end_year):\n",
    "                    days+=29\n",
    "                else:\n",
    "                    days+=28\n",
    "            else:\n",
    "                days+=numOfDaysOfMonth(month)\n",
    "\n",
    "        return numOfHrs(days)\n",
    "        \n",
    "    \n",
    "noOfhoursBetweenYears(2,2016,6,2019)"
   ]
  },
  {
   "cell_type": "code",
   "execution_count": 20,
   "metadata": {},
   "outputs": [
    {
     "data": {
      "text/plain": [
       "29904"
      ]
     },
     "execution_count": 20,
     "metadata": {},
     "output_type": "execute_result"
    }
   ],
   "source": [
    "1246*24"
   ]
  },
  {
   "cell_type": "code",
   "execution_count": null,
   "metadata": {},
   "outputs": [],
   "source": []
  }
 ],
 "metadata": {
  "kernelspec": {
   "display_name": "Python 3",
   "language": "python",
   "name": "python3"
  },
  "language_info": {
   "codemirror_mode": {
    "name": "ipython",
    "version": 3
   },
   "file_extension": ".py",
   "mimetype": "text/x-python",
   "name": "python",
   "nbconvert_exporter": "python",
   "pygments_lexer": "ipython3",
   "version": "3.7.3"
  }
 },
 "nbformat": 4,
 "nbformat_minor": 2
}
