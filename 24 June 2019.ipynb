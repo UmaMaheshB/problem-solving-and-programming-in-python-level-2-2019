{
 "cells": [
  {
   "cell_type": "code",
   "execution_count": null,
   "metadata": {},
   "outputs": [],
   "source": [
    "# frequency Distribution of Words\n",
    "def freqdistributionofwords(filepath):\n",
    "    \n",
    "    \n",
    "def wordcountfile(filepath)\n",
    "    "
   ]
  },
  {
   "cell_type": "code",
   "execution_count": null,
   "metadata": {},
   "outputs": [],
   "source": [
    "# Contacts Application \n",
    "    # add , search, List, Modify delete contact \n",
    "\n",
    "\n",
    "# find and replace Application\n",
    "    # count the total number of occurences of a word (frequency)\n",
    "    # if word is existing (yes/No)\n",
    "    # Replace all Occurances of a word with another word\n",
    "\n",
    "    \n",
    "# marks analysi\n",
    "   # generate the mark file-(randon file ) for n students\n",
    "  # marks text file--each line contains marks of one student    \n",
    " # it generates a report with the following information\n",
    "       # Class average\n",
    "       # percentage of students passed\n",
    "       # % of falied students\n",
    "       # % of students with Distinction\n",
    "       # Highest marks frequency\n",
    "       #Lowest marks frequency"
   ]
  },
  {
   "cell_type": "code",
   "execution_count": 3,
   "metadata": {},
   "outputs": [],
   "source": [
    "from random import randint\n",
    "def generateMarks(n, lb, ub):\n",
    "    with open('DataFiles/marks.txt','w') as f:\n",
    "        for i in range(0,n):\n",
    "            r = randint(lb,ub)\n",
    "            f.write(str(r) + '\\n')\n",
    "    return \n",
    "generateMarks(10000,3,100)"
   ]
  },
  {
   "cell_type": "code",
   "execution_count": 10,
   "metadata": {},
   "outputs": [
    {
     "data": {
      "text/plain": [
       "['name1_mail']"
      ]
     },
     "execution_count": 10,
     "metadata": {},
     "output_type": "execute_result"
    }
   ],
   "source": [
    "import re\n",
    "s = 'name1_mail@gmail.com'\n",
    "f = re.findall(\"^\\w+\",s)\n",
    "f"
   ]
  },
  {
   "cell_type": "code",
   "execution_count": 16,
   "metadata": {},
   "outputs": [
    {
     "name": "stdout",
     "output_type": "stream",
     "text": [
      "['lkds', 'sdjf,dlkf,sdfj']\n",
      "['lkds', 'sdjf,dlkf,sdfj']\n"
     ]
    }
   ],
   "source": [
    "s = 'lkds sdjf,dlkf,sdfj'\n",
    "print(re.split(r\"\\s\",s))\n",
    "print(re.split(\"\\s\",s))"
   ]
  },
  {
   "cell_type": "code",
   "execution_count": 35,
   "metadata": {},
   "outputs": [],
   "source": [
    "# find and replace\n",
    "def findandreplace(filepath,old,new):\n",
    "    with open(filepath,'r+') as fr:\n",
    "        filedata = fr.read()\n",
    "        filedata = filedata.replace(old,new)\n",
    "        fr.seek(0)\n",
    "        print(filedata,file=fr)\n",
    "findandreplace(\"DataFiles\\data.txt\",'line','test')"
   ]
  },
  {
   "cell_type": "code",
   "execution_count": 19,
   "metadata": {},
   "outputs": [
    {
     "data": {
      "text/plain": [
       "51.201"
      ]
     },
     "execution_count": 19,
     "metadata": {},
     "output_type": "execute_result"
    }
   ],
   "source": [
    "def clssaverage(filepath):\n",
    "    with open ('DataFiles/marks.txt','r') as f:\n",
    "        filedata = f.read()\n",
    "        marks_list = list(map(int,filedata.split()))\n",
    "        Totalcount = len(marks_list)\n",
    "        return sum(marks_list)/Totalcount\n",
    "filepath = \"DataFiles/marks.txt\"\n",
    "clssaverage(filepath)"
   ]
  },
  {
   "cell_type": "code",
   "execution_count": 16,
   "metadata": {},
   "outputs": [
    {
     "data": {
      "text/plain": [
       "66.93"
      ]
     },
     "execution_count": 16,
     "metadata": {},
     "output_type": "execute_result"
    }
   ],
   "source": [
    "def passPercentage(filepath):\n",
    "    with open ('DataFiles/marks.txt','r') as f:\n",
    "        filedata = f.read()\n",
    "        passed_count = 0\n",
    "        marks = list(map(int,filedata.split()))\n",
    "        for i in marks:\n",
    "            if i >= 35:\n",
    "                passed_count += 1\n",
    "        return (passed_count/len(marks))*100\n",
    "filepath = \"DataFiles/marks.txt\" \n",
    "passPercentage(filepath)"
   ]
  },
  {
   "cell_type": "code",
   "execution_count": 15,
   "metadata": {},
   "outputs": [
    {
     "data": {
      "text/plain": [
       "33.07"
      ]
     },
     "execution_count": 15,
     "metadata": {},
     "output_type": "execute_result"
    }
   ],
   "source": [
    "def failedpercentage(filepath):\n",
    "    with open ('DataFiles/marks.txt','r') as f:\n",
    "        filedata = f.read()\n",
    "        fail_count = 0\n",
    "        marks = list(map(int,filedata.split()))\n",
    "        for i in marks:\n",
    "            if i <= 34:\n",
    "                fail_count += 1\n",
    "        return (fail_count/len(marks))*100\n",
    "filepath = \"DataFiles/marks.txt\" \n",
    "failedpercentage(filepath)"
   ]
  },
  {
   "cell_type": "code",
   "execution_count": 18,
   "metadata": {},
   "outputs": [
    {
     "data": {
      "text/plain": [
       "26.229999999999997"
      ]
     },
     "execution_count": 18,
     "metadata": {},
     "output_type": "execute_result"
    }
   ],
   "source": [
    "def DistinctionPercentage(filepath):\n",
    "    with open ('DataFiles/marks.txt','r') as f:\n",
    "        filedata = f.read()\n",
    "        count = 0\n",
    "        marks = list(map(int,filedata.split()))\n",
    "        for i in marks:\n",
    "            if i >= 75:\n",
    "                count += 1\n",
    "        return (count/len(marks))*100\n",
    "filepath = \"DataFiles/marks.txt\" \n",
    "DistinctionPercentage(filepath)"
   ]
  },
  {
   "cell_type": "code",
   "execution_count": 27,
   "metadata": {},
   "outputs": [
    {
     "data": {
      "text/plain": [
       "88"
      ]
     },
     "execution_count": 27,
     "metadata": {},
     "output_type": "execute_result"
    }
   ],
   "source": [
    "def HighestMarksFrequency(filepath):\n",
    "    with open ('DataFiles/marks.txt','r') as f:\n",
    "        filedata = f.read()\n",
    "        count = 0\n",
    "        marks = list(map(int,filedata.split()))\n",
    "        highest = max(marks)\n",
    "        for i in marks:\n",
    "            if i == highest:\n",
    "                count += 1\n",
    "        return count\n",
    "filepath = \"DataFiles/marks.txt\" \n",
    "HighestMarksFrequency(filepath)"
   ]
  },
  {
   "cell_type": "code",
   "execution_count": 30,
   "metadata": {},
   "outputs": [
    {
     "data": {
      "text/plain": [
       "114"
      ]
     },
     "execution_count": 30,
     "metadata": {},
     "output_type": "execute_result"
    }
   ],
   "source": [
    "def LowestMarksFrequency(filepath):\n",
    "    with open ('DataFiles/marks.txt','r') as f:\n",
    "        filedata = f.read()\n",
    "        count = 0\n",
    "        marks = list(map(int,filedata.split()))\n",
    "        lowest = min(marks)\n",
    "        for i in marks:\n",
    "            if i == lowest:\n",
    "                count += 1\n",
    "        return count\n",
    "filepath = \"DataFiles/marks.txt\" \n",
    "LowestMarksFrequency(filepath)"
   ]
  }
 ],
 "metadata": {
  "kernelspec": {
   "display_name": "Python 3",
   "language": "python",
   "name": "python3"
  },
  "language_info": {
   "codemirror_mode": {
    "name": "ipython",
    "version": 3
   },
   "file_extension": ".py",
   "mimetype": "text/x-python",
   "name": "python",
   "nbconvert_exporter": "python",
   "pygments_lexer": "ipython3",
   "version": "3.7.3"
  }
 },
 "nbformat": 4,
 "nbformat_minor": 2
}
