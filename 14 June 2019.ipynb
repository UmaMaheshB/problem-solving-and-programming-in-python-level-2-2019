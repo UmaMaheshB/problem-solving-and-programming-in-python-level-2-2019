{
 "cells": [
  {
   "cell_type": "markdown",
   "metadata": {},
   "source": [
    "# problem Solving and Programming in Python \n",
    "\n",
    "###  Date: 14 June 2019\n",
    "\n",
    "### Day Objectives\n",
    "- Python Data Structures\n",
    "- Lists\n",
    "- Tuples\n",
    "- Dictionaries\n",
    "- Basic Problem set on Data Structures\n",
    "- Advanced Problem Set\n",
    "- Packages and Modules in Python"
   ]
  },
  {
   "cell_type": "markdown",
   "metadata": {},
   "source": [
    "### Python Data Structures\n",
    "#### List\n"
   ]
  },
  {
   "cell_type": "code",
   "execution_count": 27,
   "metadata": {},
   "outputs": [
    {
     "data": {
      "text/plain": [
       "442.0"
      ]
     },
     "execution_count": 27,
     "metadata": {},
     "output_type": "execute_result"
    }
   ],
   "source": [
    "li=[123,978,654]\n",
    "li #Access the list\n",
    "li[1]# Access an element with index in a list\n",
    "li[1:] #Access all elements from second element \n",
    "li[::-1] #Access  get reverse of the list\n",
    "li[::2] #To access even indexed Elements\n",
    "li[1::2] #To access odd indexed Elements\n",
    "\n",
    "#list can be manipulated in 2 different ways \n",
    "        #Direct referencing --[index value]\n",
    "        #indirect Referencing --through functions \n",
    "\n",
    "li.append(345)  #Adding an element to the end of the line\n",
    "\n",
    "li.insert(3,4004)#Adding an element at a particular location \n",
    "\n",
    "li.sort() #Soring \n",
    "#print(li)\n",
    "li.pop()#Remove the last element\n",
    "\n",
    "li.pop(0) #remove particular element with return that value\n",
    "\n",
    "l2=[2,3,4]\n",
    "li.extend(l2)#Merge 2 list\n",
    "\n",
    "l2.extend(li)\n",
    "\n",
    "sum(li) # to get sum of elements\n",
    "\n",
    "max(li) # to get maximum of a list\n",
    "\n",
    "len(li) # to get lenght of a list\n",
    "\n",
    "sum(li)/len(li) # Average of elements in a list\n",
    "\n",
    "sum(li[::2])/(len(li)//2)\n",
    "\n"
   ]
  },
  {
   "cell_type": "code",
   "execution_count": 34,
   "metadata": {},
   "outputs": [
    {
     "data": {
      "text/plain": [
       "7"
      ]
     },
     "execution_count": 34,
     "metadata": {},
     "output_type": "execute_result"
    }
   ],
   "source": [
    "#second largest from a unique list\n",
    "def secondlargest(li):\n",
    "    return sorted(set(li))[-2]\n",
    "secondlargest([2,6,1,5,7,8,8])\n"
   ]
  },
  {
   "cell_type": "code",
   "execution_count": 44,
   "metadata": {},
   "outputs": [
    {
     "data": {
      "text/plain": [
       "5"
      ]
     },
     "execution_count": 44,
     "metadata": {},
     "output_type": "execute_result"
    }
   ],
   "source": [
    "def genericlargest(li,n):\n",
    "    return sorted(set(li))[-(n)]\n",
    "genericlargest([2,6,1,5,7,8,8],4)"
   ]
  },
  {
   "cell_type": "code",
   "execution_count": 52,
   "metadata": {},
   "outputs": [
    {
     "data": {
      "text/plain": [
       "6"
      ]
     },
     "execution_count": 52,
     "metadata": {},
     "output_type": "execute_result"
    }
   ],
   "source": [
    "def genericlargest(li,n):\n",
    "    for i in range(n):\n",
    "        r=max(li)\n",
    "        li.remove(r)\n",
    "    return max(li)\n",
    "genericlargest([2,6,1,5,7,8,8],3)"
   ]
  },
  {
   "cell_type": "code",
   "execution_count": 64,
   "metadata": {},
   "outputs": [
    {
     "data": {
      "text/plain": [
       "2"
      ]
     },
     "execution_count": 64,
     "metadata": {},
     "output_type": "execute_result"
    }
   ],
   "source": [
    "#Function to search for data in a list\n",
    "#search for the key in the list and return the index \n",
    "def linearsearch(li,key):\n",
    "    if key not in li:\n",
    "        return -1\n",
    "    return li.index(key)\n",
    "linearsearch([2,6,1,5,7,8,8],1)\n"
   ]
  },
  {
   "cell_type": "code",
   "execution_count": 104,
   "metadata": {},
   "outputs": [
    {
     "data": {
      "text/plain": [
       "'4'"
      ]
     },
     "execution_count": 104,
     "metadata": {},
     "output_type": "execute_result"
    }
   ],
   "source": [
    "l=[1,2,3,4]\n",
    "s=\"\"\n",
    "for i in l:\n",
    "    s=\"\".join(str(i))\n",
    "s"
   ]
  },
  {
   "cell_type": "code",
   "execution_count": 103,
   "metadata": {},
   "outputs": [
    {
     "data": {
      "text/plain": [
       "-1"
      ]
     },
     "execution_count": 103,
     "metadata": {},
     "output_type": "execute_result"
    }
   ],
   "source": [
    "def find(l,k):\n",
    "    return \"\".join(map(str,l)).find(str(k))\n",
    "find([1,2,3,4,5,2],10)"
   ]
  },
  {
   "cell_type": "code",
   "execution_count": 82,
   "metadata": {},
   "outputs": [
    {
     "data": {
      "text/plain": [
       "4"
      ]
     },
     "execution_count": 82,
     "metadata": {},
     "output_type": "execute_result"
    }
   ],
   "source": [
    "def countcharOccurancess(s,c):\n",
    "    count=0\n",
    "    for chars in s:\n",
    "        if chars == c:\n",
    "            count+=1\n",
    "    return count\n",
    "countcharOccurancess(\"girisha\",'i')\n",
    "\n",
    "def countcharOccurancess2(s,c):\n",
    "    return s.count(c)\n",
    "countcharOccurancess2(\"girisha\",\"gi\")\n",
    "\n",
    "def countcharOccurancess3(s,c):\n",
    "    return s.find(c)\n",
    "countcharOccurancess3(\"girisha\",'s')"
   ]
  },
  {
   "cell_type": "code",
   "execution_count": 24,
   "metadata": {},
   "outputs": [
    {
     "data": {
      "text/plain": [
       "-1"
      ]
     },
     "execution_count": 24,
     "metadata": {},
     "output_type": "execute_result"
    }
   ],
   "source": [
    "s=\"abaaacab\"\n",
    "s[1:].find('c',6)"
   ]
  },
  {
   "cell_type": "code",
   "execution_count": 2,
   "metadata": {},
   "outputs": [
    {
     "name": "stdout",
     "output_type": "stream",
     "text": [
      "2 3 4 5\n"
     ]
    }
   ],
   "source": [
    "l=[map(int,input().split())]"
   ]
  },
  {
   "cell_type": "code",
   "execution_count": 27,
   "metadata": {},
   "outputs": [
    {
     "data": {
      "text/plain": [
       "2"
      ]
     },
     "execution_count": 27,
     "metadata": {},
     "output_type": "execute_result"
    }
   ],
   "source": [
    "def countsubstr(s,sb):\n",
    "    index=-1\n",
    "    c=0\n",
    "    for i in range(len(s)):\n",
    "        index=s.find(sb,index+1)\n",
    "        if index == -1:\n",
    "            return c\n",
    "        c+=1\n",
    "    \n",
    "countsubstr(\"abaaaabac\",'ab')"
   ]
  },
  {
   "cell_type": "code",
   "execution_count": 31,
   "metadata": {},
   "outputs": [
    {
     "name": "stdout",
     "output_type": "stream",
     "text": [
      "[1, 2, 2, 3]\n",
      "-1\n"
     ]
    }
   ],
   "source": [
    "l=[-1,-2,2,3]\n",
    "l.sort()\n",
    "pl=[]\n",
    "for i in l:\n",
    "    pl.append(abs(i))\n",
    "    pl.sort()\n",
    "print(pl)\n",
    "if pl[0] in l:\n",
    "    print(pl[0])\n",
    "else:\n",
    "    print(-pl[0])"
   ]
  },
  {
   "cell_type": "code",
   "execution_count": 35,
   "metadata": {},
   "outputs": [
    {
     "data": {
      "text/plain": [
       "-1"
      ]
     },
     "execution_count": 35,
     "metadata": {},
     "output_type": "execute_result"
    }
   ],
   "source": [
    "def check(a,b,c):  #c%a==b    (1,2,4) (3,2,9)\n",
    "    for i in range(c,a-1,-1):\n",
    "        if i % a == b:\n",
    "            return i\n",
    "    return -1\n",
    "check(1,2,4)"
   ]
  },
  {
   "cell_type": "code",
   "execution_count": 32,
   "metadata": {},
   "outputs": [
    {
     "data": {
      "text/plain": [
       "1"
      ]
     },
     "execution_count": 32,
     "metadata": {},
     "output_type": "execute_result"
    }
   ],
   "source": [
    "-3%2"
   ]
  },
  {
   "cell_type": "code",
   "execution_count": 34,
   "metadata": {},
   "outputs": [
    {
     "data": {
      "text/plain": [
       "5"
      ]
     },
     "execution_count": 34,
     "metadata": {},
     "output_type": "execute_result"
    }
   ],
   "source": [
    "5%7"
   ]
  },
  {
   "cell_type": "code",
   "execution_count": null,
   "metadata": {},
   "outputs": [],
   "source": []
  }
 ],
 "metadata": {
  "kernelspec": {
   "display_name": "Python 3",
   "language": "python",
   "name": "python3"
  },
  "language_info": {
   "codemirror_mode": {
    "name": "ipython",
    "version": 3
   },
   "file_extension": ".py",
   "mimetype": "text/x-python",
   "name": "python",
   "nbconvert_exporter": "python",
   "pygments_lexer": "ipython3",
   "version": "3.7.3"
  }
 },
 "nbformat": 4,
 "nbformat_minor": 2
}
